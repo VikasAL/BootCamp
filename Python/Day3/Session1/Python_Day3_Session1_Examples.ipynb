{
  "nbformat": 4,
  "nbformat_minor": 0,
  "metadata": {
    "colab": {
      "name": "Python Day3 Session1 Examples.ipynb",
      "provenance": [],
      "collapsed_sections": [],
      "authorship_tag": "ABX9TyOw4BvRV4QBI2IkrqAgJ65t",
      "include_colab_link": true
    },
    "kernelspec": {
      "name": "python3",
      "display_name": "Python 3"
    }
  },
  "cells": [
    {
      "cell_type": "markdown",
      "metadata": {
        "id": "view-in-github",
        "colab_type": "text"
      },
      "source": [
        "<a href=\"https://colab.research.google.com/github/VikasAL/BootCamp/blob/master/Python/Day3/Session1/Python_Day3_Session1_Examples.ipynb\" target=\"_parent\"><img src=\"https://colab.research.google.com/assets/colab-badge.svg\" alt=\"Open In Colab\"/></a>"
      ]
    },
    {
      "cell_type": "markdown",
      "metadata": {
        "id": "Sps5V25a2eHe",
        "colab_type": "text"
      },
      "source": [
        "#Python Program to Create a Class and Compute the Area and the Perimeter of the Circle"
      ]
    },
    {
      "cell_type": "code",
      "metadata": {
        "id": "sY7yk9-h3OGt",
        "colab_type": "code",
        "colab": {
          "base_uri": "https://localhost:8080/",
          "height": 68
        },
        "outputId": "5a4e7838-5b23-4ace-ac56-465af4025acc"
      },
      "source": [
        "import math\n",
        "class circle():\n",
        "  def __init__(self,radius):\n",
        "    self.radius=radius\n",
        "  def area(self):\n",
        "    return math.pi*(self.radius**2)\n",
        "  def perimeter(self):\n",
        "    return 2*math.pi*self.radius\n",
        "    \n",
        "r=int(input(\"Enter radius of circle: \"))\n",
        "obj=circle(r)\n",
        "print(\"Area of circle:\",round(obj.area(),2))\n",
        "print(\"Perimeter of circle:\",round(obj.perimeter(),2))"
      ],
      "execution_count": 2,
      "outputs": [
        {
          "output_type": "stream",
          "text": [
            "Enter radius of circle: 4\n",
            "Area of circle: 50.27\n",
            "Perimeter of circle: 25.13\n"
          ],
          "name": "stdout"
        }
      ]
    },
    {
      "cell_type": "markdown",
      "metadata": {
        "id": "JrhyKOlS3Tsz",
        "colab_type": "text"
      },
      "source": [
        "#Creating simple class and objects for counting the number of employees"
      ]
    },
    {
      "cell_type": "code",
      "metadata": {
        "id": "VzSUqQHs3XXP",
        "colab_type": "code",
        "colab": {
          "base_uri": "https://localhost:8080/",
          "height": 68
        },
        "outputId": "b2949737-678e-4e8e-8c40-20f1f7f0ce73"
      },
      "source": [
        "#defining class\n",
        "class Employee:\n",
        "  'Common base class for all employees'\n",
        "  empCount = 0\n",
        "#defining the constructor\n",
        "  def __init__(self, name, salary):\n",
        "    self.name = name\n",
        "    self.salary = salary\n",
        "    Employee.empCount += 1\n",
        "  #defining the member functions\n",
        "  def displayCount(self):\n",
        "    print(\"Total Employee %d\" % Employee.empCount)\n",
        "  def displayEmployee(self):\n",
        "    print (\"Name : \", self.name, \", Salary: \", self.salary)\n",
        "\n",
        "\"This would create first object of Employee class\"\n",
        "emp1 = Employee(\"Zara\", 2000)\n",
        "\"This would create second object of Employee class\"\n",
        "emp2 = Employee(\"Manni\", 5000)\n",
        "\n",
        "emp1.displayEmployee()\n",
        "emp2.displayEmployee()\n",
        "print(\"Total Employee %d\" % Employee.empCount)"
      ],
      "execution_count": 22,
      "outputs": [
        {
          "output_type": "stream",
          "text": [
            "Name :  Zara , Salary:  2000\n",
            "Name :  Manni , Salary:  5000\n",
            "Total Employee 2\n"
          ],
          "name": "stdout"
        }
      ]
    },
    {
      "cell_type": "markdown",
      "metadata": {
        "id": "N8KbF0zt3vpr",
        "colab_type": "text"
      },
      "source": [
        "#Inheritance in Python"
      ]
    },
    {
      "cell_type": "markdown",
      "metadata": {
        "id": "fkTEPdXc33c7",
        "colab_type": "text"
      },
      "source": [
        "# A Python program to demonstrate inheritance"
      ]
    },
    {
      "cell_type": "code",
      "metadata": {
        "id": "ho3GGbIx38bj",
        "colab_type": "code",
        "colab": {
          "base_uri": "https://localhost:8080/",
          "height": 51
        },
        "outputId": "9afc600a-a931-4ab1-e169-465b0af77dd1"
      },
      "source": [
        "class Person(object):\n",
        "# Constructor\n",
        "  def __init__(self, name):\n",
        "    self.name = name\n",
        "  # To get name\n",
        "  def getName(self):\n",
        "    return self.name\n",
        "  # To check if this person is an employee\n",
        "  def isEmployee(self):\n",
        "    return False\n",
        "\n",
        "  # Inherited or Subclass (Note Person in bracket)\n",
        "class Employee(Person):\n",
        "  # Here we return true\n",
        "  def isEmployee(self):\n",
        "    return True\n",
        "\n",
        "# Driver code\n",
        "emp = Person(\"Ram\") # An Object of Person\n",
        "print(emp.getName(), emp.isEmployee())\n",
        "emp = Employee(\"Raj\") # An Object of Employee\n",
        "print(emp.getName(), emp.isEmployee())"
      ],
      "execution_count": 8,
      "outputs": [
        {
          "output_type": "stream",
          "text": [
            "Ram False\n",
            "Raj True\n"
          ],
          "name": "stdout"
        }
      ]
    },
    {
      "cell_type": "markdown",
      "metadata": {
        "id": "xS47YNiW0U1j",
        "colab_type": "text"
      },
      "source": [
        "#Encapsulation examples"
      ]
    },
    {
      "cell_type": "markdown",
      "metadata": {
        "id": "8_ubOvH-4Id7",
        "colab_type": "text"
      },
      "source": [
        "# Accessing public members of the class"
      ]
    },
    {
      "cell_type": "code",
      "metadata": {
        "id": "L9GdjDJQ4JUr",
        "colab_type": "code",
        "colab": {
          "base_uri": "https://localhost:8080/",
          "height": 85
        },
        "outputId": "7a24ec3a-8c7d-45ba-c1d3-693b689254e1"
      },
      "source": [
        "class Person:\n",
        "  def __init__(self, name, age=0):\n",
        "    self.name = name\n",
        "    self.age = age\n",
        "  def display(self):\n",
        "    print(self.name)\n",
        "    print(self.age)\n",
        "    \n",
        "person = Person('Dev', 30)\n",
        "#accessing using class method\n",
        "person.display()\n",
        "#accessing directly from outside\n",
        "print(person.name)\n",
        "print(person.age)"
      ],
      "execution_count": 9,
      "outputs": [
        {
          "output_type": "stream",
          "text": [
            "Dev\n",
            "30\n",
            "Dev\n",
            "30\n"
          ],
          "name": "stdout"
        }
      ]
    },
    {
      "cell_type": "markdown",
      "metadata": {
        "id": "pTWGEHUf4XMC",
        "colab_type": "text"
      },
      "source": [
        "#Accessing protected members of the class using single underscore"
      ]
    },
    {
      "cell_type": "code",
      "metadata": {
        "id": "BWwDQL8-4ZzT",
        "colab_type": "code",
        "colab": {
          "base_uri": "https://localhost:8080/",
          "height": 85
        },
        "outputId": "dffbf41e-a95b-40c3-a14c-7d00965568e7"
      },
      "source": [
        "class Person:\n",
        "  def __init__(self, name, age=0):\n",
        "    self.name = name\n",
        "    self._age = age\n",
        "  def display(self):\n",
        "    print(self.name)\n",
        "    print(self._age)\n",
        "person = Person('Dev', 30)\n",
        "#accessing using class method\n",
        "person.display()\n",
        "#accessing directly from outside\n",
        "print(person.name)\n",
        "print(person._age)"
      ],
      "execution_count": 10,
      "outputs": [
        {
          "output_type": "stream",
          "text": [
            "Dev\n",
            "30\n",
            "Dev\n",
            "30\n"
          ],
          "name": "stdout"
        }
      ]
    },
    {
      "cell_type": "markdown",
      "metadata": {
        "id": "Wc6oEG5q4emq",
        "colab_type": "text"
      },
      "source": [
        "# Accessing private members of the class using double underscore"
      ]
    },
    {
      "cell_type": "code",
      "metadata": {
        "id": "DJttWR7E4toT",
        "colab_type": "code",
        "colab": {
          "base_uri": "https://localhost:8080/",
          "height": 265
        },
        "outputId": "fa63f297-c62c-44e3-b4f1-7919f7008da3"
      },
      "source": [
        "class Person:\n",
        "  def __init__(self, name, age=0):\n",
        "    self.name = name\n",
        "    self.__age = age\n",
        "  def display(self):\n",
        "    print(self.name)\n",
        "    print(self.__age)\n",
        "\n",
        "person = Person('Dev', 30)\n",
        "\n",
        "#accessing using class method\n",
        "person.display()\n",
        "#accessing directly from outside\n",
        "print('Trying to access variables from outside the class ')\n",
        "print(person.name)\n",
        "print(person.__age)\n"
      ],
      "execution_count": 12,
      "outputs": [
        {
          "output_type": "stream",
          "text": [
            "Dev\n",
            "30\n",
            "Trying to access variables from outside the class \n",
            "Dev\n"
          ],
          "name": "stdout"
        },
        {
          "output_type": "error",
          "ename": "AttributeError",
          "evalue": "ignored",
          "traceback": [
            "\u001b[0;31m---------------------------------------------------------------------------\u001b[0m",
            "\u001b[0;31mAttributeError\u001b[0m                            Traceback (most recent call last)",
            "\u001b[0;32m<ipython-input-12-cdca4aac6b64>\u001b[0m in \u001b[0;36m<module>\u001b[0;34m()\u001b[0m\n\u001b[1;32m     14\u001b[0m \u001b[0mprint\u001b[0m\u001b[0;34m(\u001b[0m\u001b[0;34m'Trying to access variables from outside the class '\u001b[0m\u001b[0;34m)\u001b[0m\u001b[0;34m\u001b[0m\u001b[0;34m\u001b[0m\u001b[0m\n\u001b[1;32m     15\u001b[0m \u001b[0mprint\u001b[0m\u001b[0;34m(\u001b[0m\u001b[0mperson\u001b[0m\u001b[0;34m.\u001b[0m\u001b[0mname\u001b[0m\u001b[0;34m)\u001b[0m\u001b[0;34m\u001b[0m\u001b[0;34m\u001b[0m\u001b[0m\n\u001b[0;32m---> 16\u001b[0;31m \u001b[0mprint\u001b[0m\u001b[0;34m(\u001b[0m\u001b[0mperson\u001b[0m\u001b[0;34m.\u001b[0m\u001b[0m__age\u001b[0m\u001b[0;34m)\u001b[0m\u001b[0;34m\u001b[0m\u001b[0;34m\u001b[0m\u001b[0m\n\u001b[0m",
            "\u001b[0;31mAttributeError\u001b[0m: 'Person' object has no attribute '__age'"
          ]
        }
      ]
    },
    {
      "cell_type": "markdown",
      "metadata": {
        "id": "rNgQyxej4xHj",
        "colab_type": "text"
      },
      "source": [
        "#Using Getter and Setter methods to access private variables"
      ]
    },
    {
      "cell_type": "code",
      "metadata": {
        "id": "GwCe5n494z57",
        "colab_type": "code",
        "colab": {
          "base_uri": "https://localhost:8080/",
          "height": 68
        },
        "outputId": "507ff20b-462c-4641-bd68-8ae37e97752f"
      },
      "source": [
        "class Person:\n",
        "  def __init__(self, name, age=0):\n",
        "    self.name = name\n",
        "    self.__age = age\n",
        "  def display(self):\n",
        "    print(self.name)\n",
        "    print(self.__age)\n",
        "  def getAge(self):\n",
        "    print(self.__age)\n",
        "  def setAge(self, age):\n",
        "    self.__age = age\n",
        "    \n",
        "person = Person('Dev', 30)\n",
        "#accessing using class method\n",
        "person.display()\n",
        "#changing age using setter\n",
        "person.setAge(35)\n",
        "person.getAge()"
      ],
      "execution_count": 13,
      "outputs": [
        {
          "output_type": "stream",
          "text": [
            "Dev\n",
            "30\n",
            "35\n"
          ],
          "name": "stdout"
        }
      ]
    },
    {
      "cell_type": "markdown",
      "metadata": {
        "id": "oECPCpHj43AT",
        "colab_type": "text"
      },
      "source": [
        "# Example of hybrid inheritance (multilevel and multiple inheritance)"
      ]
    },
    {
      "cell_type": "code",
      "metadata": {
        "id": "78-U1bEd45gj",
        "colab_type": "code",
        "colab": {
          "base_uri": "https://localhost:8080/",
          "height": 68
        },
        "outputId": "1e894dc1-0205-490a-92ec-9957f9f91919"
      },
      "source": [
        "class Family:\n",
        "  def show_family(self):\n",
        "    print(\"This is our family:\")\n",
        "  # Father class inherited from Family\n",
        "class Father(Family):\n",
        "  fathername = \"\"\n",
        "  def show_father(self):\n",
        "    print(self.fathername)\n",
        "  # Mother class inherited from Family\n",
        "class Mother(Family):\n",
        "  mothername = \"\"\n",
        "  def show_mother(self):\n",
        "    print(self.mothername)\n",
        "  # Son class inherited from Father and Mother classes\n",
        "class Son(Father, Mother):\n",
        "  def show_parent(self):\n",
        "    print(\"Father :\", self.fathername)\n",
        "    print(\"Mother :\", self.mothername)\n",
        "s1 = Son() # Object of Son class\n",
        "s1.fathername = \"Mark\"\n",
        "s1.mothername = \"Sonia\"\n",
        "s1.show_family()\n",
        "s1.show_parent()"
      ],
      "execution_count": 14,
      "outputs": [
        {
          "output_type": "stream",
          "text": [
            "This is our family:\n",
            "Father : Mark\n",
            "Mother : Sonia\n"
          ],
          "name": "stdout"
        }
      ]
    },
    {
      "cell_type": "markdown",
      "metadata": {
        "id": "8xl9-viY49jj",
        "colab_type": "text"
      },
      "source": [
        "#Python Program to Create a Class which Performs Basic Calculator Operations"
      ]
    },
    {
      "cell_type": "code",
      "metadata": {
        "id": "E6gdYVnv5BOb",
        "colab_type": "code",
        "colab": {
          "base_uri": "https://localhost:8080/",
          "height": 765
        },
        "outputId": "eaf7dca9-6c3a-4e35-f02a-61154ab132a7"
      },
      "source": [
        "class cal():\n",
        "  def __init__(self,a,b):\n",
        "    self.a=a\n",
        "    self.b=b\n",
        "  def add(self):\n",
        "    return self.a+self.b\n",
        "  def mul(self):\n",
        "    return self.a*self.b\n",
        "  def div(self):\n",
        "    return self.a/self.b\n",
        "  def sub(self):\n",
        "    return self.a-self.b\n",
        "a=int(input(\"Enter first number: \"))\n",
        "b=int(input(\"Enter second number: \"))\n",
        "obj=cal(a,b)\n",
        "choice=1\n",
        "while choice!=0:\n",
        "  print(\"0. Exit\")\n",
        "  print(\"1. Add\")\n",
        "  print(\"2. Subtraction\")\n",
        "  print(\"3. Multiplication\")\n",
        "  print(\"4. Division\")\n",
        "  choice=int(input(\"Enter choice: \"))\n",
        "  if choice==1:\n",
        "    print(\"Result: \",obj.add())\n",
        "  elif choice==2:\n",
        "    print(\"Result: \",obj.sub())\n",
        "  elif choice==3:\n",
        "    print(\"Result: \",obj.mul())\n",
        "  elif choice==4:\n",
        "    print(\"Result: \",round(obj.div(),2))\n",
        "  elif choice==0:\n",
        "    print(\"Exiting!\")\n",
        "  else:\n",
        "    print(\"Invalid choice!!\")"
      ],
      "execution_count": 15,
      "outputs": [
        {
          "output_type": "stream",
          "text": [
            "Enter first number: 3\n",
            "Enter second number: 4\n",
            "0. Exit\n",
            "1. Add\n",
            "2. Subtraction\n",
            "3. Multiplication\n",
            "4. Division\n",
            "Enter choice: 1\n",
            "Result:  7\n",
            "0. Exit\n",
            "1. Add\n",
            "2. Subtraction\n",
            "3. Multiplication\n",
            "4. Division\n",
            "Enter choice: 2\n",
            "Result:  -1\n",
            "0. Exit\n",
            "1. Add\n",
            "2. Subtraction\n",
            "3. Multiplication\n",
            "4. Division\n",
            "Enter choice: 3\n",
            "Result:  12\n",
            "0. Exit\n",
            "1. Add\n",
            "2. Subtraction\n",
            "3. Multiplication\n",
            "4. Division\n",
            "Enter choice: 4\n",
            "Result:  0.75\n",
            "0. Exit\n",
            "1. Add\n",
            "2. Subtraction\n",
            "3. Multiplication\n",
            "4. Division\n",
            "Enter choice: 5\n",
            "Invalid choice!!\n",
            "0. Exit\n",
            "1. Add\n",
            "2. Subtraction\n",
            "3. Multiplication\n",
            "4. Division\n",
            "Enter choice: 0\n",
            "Exiting!\n"
          ],
          "name": "stdout"
        }
      ]
    },
    {
      "cell_type": "markdown",
      "metadata": {
        "id": "KzaMxKFZ5HbL",
        "colab_type": "text"
      },
      "source": [
        "# Python Program to Append, Delete and Display Elements of a List Using Classes"
      ]
    },
    {
      "cell_type": "code",
      "metadata": {
        "id": "zZ6fAIU_5K-D",
        "colab_type": "code",
        "colab": {
          "base_uri": "https://localhost:8080/",
          "height": 901
        },
        "outputId": "d99b4473-0dbd-43fc-d07f-d4580016adeb"
      },
      "source": [
        "class check():\n",
        "  def __init__(self):\n",
        "    self.n=[]\n",
        "  def add(self,a):\n",
        "    self.n.append(a)\n",
        "  def remove(self,b):\n",
        "    self.n.remove(b)\n",
        "  def dis(self):\n",
        "    return (self.n)\n",
        "obj=check()\n",
        "choice=1\n",
        "while choice!=0:\n",
        "  print(\"0. Exit\")\n",
        "  print(\"1. Add\")\n",
        "  print(\"2. Delete\")\n",
        "  print(\"3. Display\")\n",
        "  choice=int(input(\"Enter choice: \"))\n",
        "  if choice==1:\n",
        "    n=int(input(\"Enter number to append: \"))\n",
        "    obj.add(n)\n",
        "    print(\"List: \",obj.dis())\n",
        "  elif choice==2:\n",
        "    n=int(input(\"Enter number to remove: \"))\n",
        "    obj.remove(n)\n",
        "    print(\"List: \",obj.dis())\n",
        "  elif choice==3:\n",
        "    print(\"List: \",obj.dis())\n",
        "  elif choice==0:\n",
        "    print(\"Exiting!\")\n",
        "  else:\n",
        "    print(\"Invalid choice!!\")"
      ],
      "execution_count": 16,
      "outputs": [
        {
          "output_type": "stream",
          "text": [
            "0. Exit\n",
            "1. Add\n",
            "2. Delete\n",
            "3. Display\n",
            "Enter choice: 1\n",
            "Enter number to append: 2\n",
            "List:  [2]\n",
            "0. Exit\n",
            "1. Add\n",
            "2. Delete\n",
            "3. Display\n",
            "Enter choice: 1\n",
            "Enter number to append: 3\n",
            "List:  [2, 3]\n",
            "0. Exit\n",
            "1. Add\n",
            "2. Delete\n",
            "3. Display\n",
            "Enter choice: 3\n",
            "List:  [2, 3]\n",
            "0. Exit\n",
            "1. Add\n",
            "2. Delete\n",
            "3. Display\n",
            "Enter choice: 2\n",
            "Enter number to remove: 2\n",
            "List:  [3]\n",
            "0. Exit\n",
            "1. Add\n",
            "2. Delete\n",
            "3. Display\n",
            "Enter choice: 2\n",
            "Enter number to remove: 3\n",
            "List:  []\n",
            "0. Exit\n",
            "1. Add\n",
            "2. Delete\n",
            "3. Display\n",
            "Enter choice: 3\n",
            "List:  []\n",
            "0. Exit\n",
            "1. Add\n",
            "2. Delete\n",
            "3. Display\n",
            "Enter choice: 4\n",
            "Invalid choice!!\n",
            "0. Exit\n",
            "1. Add\n",
            "2. Delete\n",
            "3. Display\n",
            "Enter choice: 0\n",
            "Exiting!\n"
          ],
          "name": "stdout"
        }
      ]
    },
    {
      "cell_type": "markdown",
      "metadata": {
        "id": "2TDxOqNZ5THb",
        "colab_type": "text"
      },
      "source": [
        "# linked list using class"
      ]
    },
    {
      "cell_type": "code",
      "metadata": {
        "id": "H9ehnDMc5VnD",
        "colab_type": "code",
        "colab": {
          "base_uri": "https://localhost:8080/",
          "height": 85
        },
        "outputId": "e177e02d-3e68-4ff7-c215-da9b745c90f2"
      },
      "source": [
        "class Node:\n",
        "  def __init__(self, data):\n",
        "    self.data = data\n",
        "    self.next = None\n",
        "class LinkedList:\n",
        "  def __init__(self):\n",
        "    self.head = None\n",
        "    self.last_node = None\n",
        "  def append(self, data):\n",
        "    if self.last_node is None:\n",
        "      self.head = Node(data)\n",
        "      self.last_node = self.head\n",
        "    else:\n",
        "      self.last_node.next = Node(data)\n",
        "      self.last_node = self.last_node.next\n",
        "  def display(self):\n",
        "    current = self.head\n",
        "    while current is not None:\n",
        "      print(current.data, end = ' ')\n",
        "      current = current.next\n",
        "a_llist = LinkedList()\n",
        "n = int(input('How many elements would you like to add? '))\n",
        "for i in range(n):\n",
        "  data = int(input('Enter data item: '))\n",
        "  a_llist.append(data)\n",
        "print('The linked list: ', end = '')\n",
        "a_llist.display()"
      ],
      "execution_count": 17,
      "outputs": [
        {
          "output_type": "stream",
          "text": [
            "How many elements would you like to add? 2\n",
            "Enter data item: 3\n",
            "Enter data item: 4\n",
            "The linked list: 3 4 "
          ],
          "name": "stdout"
        }
      ]
    },
    {
      "cell_type": "markdown",
      "metadata": {
        "id": "bQH0AxW35eA6",
        "colab_type": "text"
      },
      "source": [
        "# operator overloading example program"
      ]
    },
    {
      "cell_type": "code",
      "metadata": {
        "id": "S1umCD635hFy",
        "colab_type": "code",
        "colab": {
          "base_uri": "https://localhost:8080/",
          "height": 102
        },
        "outputId": "6e57562b-dc80-4cf3-9d94-3a865f58e330"
      },
      "source": [
        "class Vector:\n",
        "  def __init__(self, a, b):\n",
        "    self.a = a\n",
        "    self.b = b\n",
        "  def __str__(self):\n",
        "    return 'Vector (%d, %d)' % (self.a, self.b)\n",
        "  def __add__(self,other):\n",
        "    return Vector(self.a + other.a, self.b + other.b)\n",
        "  def __sub__(self,other):\n",
        "    return Vector(self.a - other.a, self.b - other.b)\n",
        "  def __mul__(self,other):\n",
        "    return Vector(self.a * other.a, self.b * other.b)\n",
        "  def __truediv__(self,other):\n",
        "    return Vector(float(self.a) /other.a, float(self.b) / other.b)\n",
        "  def __floordiv__(self,other):\n",
        "    return Vector(float(self.a) //other.a, float(self.b) //other.b)\n",
        "v1 = Vector(5,10)\n",
        "v2 = Vector(2,-2)\n",
        "print (v1 + v2)\n",
        "print (v1 - v2)\n",
        "print (v1 * v2)\n",
        "print (v1 / v2)\n",
        "print (v1 // v2)"
      ],
      "execution_count": 18,
      "outputs": [
        {
          "output_type": "stream",
          "text": [
            "Vector (7, 8)\n",
            "Vector (3, 12)\n",
            "Vector (10, -20)\n",
            "Vector (2, -5)\n",
            "Vector (2, -5)\n"
          ],
          "name": "stdout"
        }
      ]
    }
  ]
}