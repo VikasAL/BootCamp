{
  "nbformat": 4,
  "nbformat_minor": 0,
  "metadata": {
    "colab": {
      "name": "Python Day3 Session1 Exercise.ipynb",
      "provenance": [],
      "collapsed_sections": [],
      "authorship_tag": "ABX9TyNI27feE16xEdf/hED/lMkd",
      "include_colab_link": true
    },
    "kernelspec": {
      "name": "python3",
      "display_name": "Python 3"
    }
  },
  "cells": [
    {
      "cell_type": "markdown",
      "metadata": {
        "id": "view-in-github",
        "colab_type": "text"
      },
      "source": [
        "<a href=\"https://colab.research.google.com/github/VikasAL/BootCamp/blob/master/Python/Day3/Session1/Python_Day3_Session1_Exercise.ipynb\" target=\"_parent\"><img src=\"https://colab.research.google.com/assets/colab-badge.svg\" alt=\"Open In Colab\"/></a>"
      ]
    },
    {
      "cell_type": "markdown",
      "metadata": {
        "id": "8wuLEZDZ5d1r",
        "colab_type": "text"
      },
      "source": [
        "#Python program to find volume and surface area of Cylinder (V=pi*r*r*h, SA=2*pi*r*h) using class and objects. Create a constructor to initialize the objects and print the results with 2 decimal points precision.( Finding Vol and SA using class and object)"
      ]
    },
    {
      "cell_type": "code",
      "metadata": {
        "id": "gQQAeZds4BAd",
        "colab_type": "code",
        "colab": {
          "base_uri": "https://localhost:8080/",
          "height": 51
        },
        "outputId": "a7746527-bab3-47b4-f8fb-739b2ef26a0c"
      },
      "source": [
        "import math\n",
        "class Cylinder:\n",
        "  def __init__(self,radius,height):\n",
        "    self.r = radius\n",
        "    self.h = height\n",
        "  def volume(self):\n",
        "    return math.pi*self.r*self.r*self.h\n",
        "  def surface(self):\n",
        "    return math.pi*self.r*self.h*2\n",
        "c = Cylinder(3,5)\n",
        "print(\"Volume of the cylinder is : \",c.volume())\n",
        "print(\"Surface area of the cylinder is : \",c.surface())"
      ],
      "execution_count": 1,
      "outputs": [
        {
          "output_type": "stream",
          "text": [
            "Volume of the cylinder is :  141.3716694115407\n",
            "Surface area of the cylinder is :  94.24777960769379\n"
          ],
          "name": "stdout"
        }
      ]
    },
    {
      "cell_type": "markdown",
      "metadata": {
        "id": "pgwCge246yGY",
        "colab_type": "text"
      },
      "source": [
        "#Create a class Student with constructor, setdata() and dispdata() for encapsulating rollno, name, mark1, mark2 into it. Create three objects obj1, obj2, obj3 from class Student. Set rollno, name, mark1, mark2 for 3 students using setdata() and display them using dispdata(). \n",
        "#simple class and object with constructor)"
      ]
    },
    {
      "cell_type": "code",
      "metadata": {
        "id": "6MeDMpqp6xp7",
        "colab_type": "code",
        "colab": {
          "base_uri": "https://localhost:8080/",
          "height": 272
        },
        "outputId": "1611aa49-3438-43a8-b957-e3f3a8477ff0"
      },
      "source": [
        "class Student:\n",
        "  def __init__(self):\n",
        "    self.rn = None\n",
        "    self.n = None\n",
        "    self.m1 = None\n",
        "    self.m2 = None\n",
        "\n",
        "  def dispdata(self):\n",
        "    print(\"Rollno : {0}\\nName : {1}\\nMark1 : {2}\\nMark2 : {3}\".format(self.rn,self.n,self.m1,self.m2))\n",
        "\n",
        "  def setdata(self,rollno,name,mark1,mark2):\n",
        "    self.rn = rollno\n",
        "    self.n = name\n",
        "    self.m1 = mark1\n",
        "    self.m2 = mark2\n",
        "\n",
        "  def getdata(self):\n",
        "    print(\"\\nRollno : {0}\\nName : {1}\\nMark1 : {2}\\nMark2 : {3}\".format(self.rn,self.n,self.m1,self.m2))\n",
        "\n",
        "obj1 = Student()\n",
        "obj2 = Student()\n",
        "obj3 = Student()\n",
        "'''obj1.dispdata()\n",
        "obj2.dispdata()\n",
        "obj3.dispdata()'''\n",
        "\n",
        "obj1.setdata(1,'Ajay',50,55)\n",
        "obj2.setdata(2,'Vijay',60,65)\n",
        "obj3.setdata(3,'Jay',70,75)\n",
        "obj1.getdata()\n",
        "obj2.getdata()\n",
        "obj3.getdata()"
      ],
      "execution_count": 27,
      "outputs": [
        {
          "output_type": "stream",
          "text": [
            "\n",
            "Rollno : 1\n",
            "Name : Ajay\n",
            "Mark1 : 50\n",
            "Mark2 : 55\n",
            "\n",
            "Rollno : 2\n",
            "Name : Vijay\n",
            "Mark1 : 60\n",
            "Mark2 : 65\n",
            "\n",
            "Rollno : 3\n",
            "Name : Jay\n",
            "Mark1 : 70\n",
            "Mark2 : 75\n"
          ],
          "name": "stdout"
        }
      ]
    },
    {
      "cell_type": "markdown",
      "metadata": {
        "id": "udLcOia8-i27",
        "colab_type": "text"
      },
      "source": [
        "#Create a parent class Person with constructor(name, idnumber), display() to display name and idnumber and child class Employee with constructor(name, idnumber salary, post) and display() to display name, idnumber, salary and post. Create object x from parent to pass name and idnumber as parameter and display them. Create objects a and b of Employee to pass name, idnumber, salary and post and display them (single inheritance)"
      ]
    },
    {
      "cell_type": "code",
      "metadata": {
        "id": "xi5VRKTn-q56",
        "colab_type": "code",
        "colab": {
          "base_uri": "https://localhost:8080/",
          "height": 272
        },
        "outputId": "95b617a3-69f9-4b89-af01-c334d71a560e"
      },
      "source": [
        "class Person:\n",
        "  def __init__(self,name,idnumber):\n",
        "    self.n = name\n",
        "    self.id = idnumber\n",
        "  def display(self):\n",
        "    print(\"\\nName : {0}\\nIDNumber : {1}\".format(self.n,self.id))\n",
        "\n",
        "class Employee(Parent):\n",
        "  def __init__(self,name,idnumber,salary,post): \n",
        "    Person.__init__(self,name,idnumber)\n",
        "    self.s = salary\n",
        "    self.p = post\n",
        "\n",
        "  def display(self):\n",
        "    Person.display(self)\n",
        "    print(\"Salary : {0}\\nPost : {1}\\n\".format(self.s,self.p))\n",
        "x = Person('Vijay',1)\n",
        "x.display()\n",
        "a = Employee('Ajay',2,5000,'Accountant')\n",
        "a.display()\n",
        "b = Employee('Jay',3,6000,'Director')\n",
        "b.display()"
      ],
      "execution_count": 34,
      "outputs": [
        {
          "output_type": "stream",
          "text": [
            "\n",
            "Name : Vijay\n",
            "IDNumber : 1\n",
            "\n",
            "Name : Ajay\n",
            "IDNumber : 2\n",
            "Salary : 5000\n",
            "Post : Accountant\n",
            "\n",
            "\n",
            "Name : Jay\n",
            "IDNumber : 3\n",
            "Salary : 6000\n",
            "Post : Director\n",
            "\n"
          ],
          "name": "stdout"
        }
      ]
    },
    {
      "cell_type": "markdown",
      "metadata": {
        "id": "UH8KUG2tDb7m",
        "colab_type": "text"
      },
      "source": [
        "#Create a parent class student in which a method getStudent() is defined to get rollno and name of the student. Create a child class called test in which a method getMarks() is defined to get maths and science marks. Create a grandchild class called marks in which display() is defined to display all the details rollno,name,maths marks, science marks and average marks (of science and maths) (Multilevel inheritance problem)"
      ]
    },
    {
      "cell_type": "code",
      "metadata": {
        "id": "gKcE5nj3D1hD",
        "colab_type": "code",
        "colab": {
          "base_uri": "https://localhost:8080/",
          "height": 119
        },
        "outputId": "6f0c1f7f-d33e-427d-d230-e70c2f77f1b7"
      },
      "source": [
        "class Student:\n",
        "  def getStudent(self,name,rollno):\n",
        "    self.n = name\n",
        "    self.r = rollno\n",
        "\n",
        "class Test(Student):\n",
        "  def getMarks(self,maths,science):\n",
        "    self.m1 = maths\n",
        "    self.s = science\n",
        "\n",
        "class Marks(Test):\n",
        "  def display(self):\n",
        "    print(\"Name : {0}\\n RollNo : {1}\\nMaths marks : {2}\\nScience Marks : {3}\\nAverage : {4}\\n\".format(self.n,self.r,self.m1,self.s,(self.m1+self.s)/2))\n",
        "m = Marks()\n",
        "m.getStudent(\"Ajay\", 11)\n",
        "m.getMarks(10,20)\n",
        "m.display()"
      ],
      "execution_count": 41,
      "outputs": [
        {
          "output_type": "stream",
          "text": [
            "Name : Ajay\n",
            " RollNo : 11\n",
            "Maths marks : 10\n",
            "Science Marks : 20\n",
            "Average : 15.0\n",
            "\n"
          ],
          "name": "stdout"
        }
      ]
    }
  ]
}