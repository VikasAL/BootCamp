{
  "nbformat": 4,
  "nbformat_minor": 0,
  "metadata": {
    "colab": {
      "name": "Python_Day1_Session2_Excercise_pbms.ipynb",
      "provenance": [],
      "collapsed_sections": [],
      "authorship_tag": "ABX9TyNgmClW1wMAIneIJ0XKnT+h",
      "include_colab_link": true
    },
    "kernelspec": {
      "name": "python3",
      "display_name": "Python 3"
    }
  },
  "cells": [
    {
      "cell_type": "markdown",
      "metadata": {
        "id": "view-in-github",
        "colab_type": "text"
      },
      "source": [
        "<a href=\"https://colab.research.google.com/github/VikasAL/Boot_Camp/blob/master/Python/Day1/Session2/Python_Day1_Session2_Excercise_pbms.ipynb\" target=\"_parent\"><img src=\"https://colab.research.google.com/assets/colab-badge.svg\" alt=\"Open In Colab\"/></a>"
      ]
    },
    {
      "cell_type": "markdown",
      "metadata": {
        "id": "txEdNWlBNRvR",
        "colab_type": "text"
      },
      "source": [
        "#1 Write a program to print the triangle"
      ]
    },
    {
      "cell_type": "code",
      "metadata": {
        "id": "45p6LMvlNIav",
        "colab_type": "code",
        "colab": {
          "base_uri": "https://localhost:8080/",
          "height": 104
        },
        "outputId": "84cacc2d-c2f6-448f-9523-7def20294fd8"
      },
      "source": [
        "n = int(input(\"Enter the number\"))\n",
        "for i in range(1, n+1):\n",
        "  for j in range(i,i+i):\n",
        "    print(j,end=\" \")\n",
        "  print(\"\")"
      ],
      "execution_count": 31,
      "outputs": [
        {
          "output_type": "stream",
          "text": [
            "Enter the number4\n",
            "1 \n",
            "2 3 \n",
            "3 4 5 \n",
            "4 5 6 7 \n"
          ],
          "name": "stdout"
        }
      ]
    },
    {
      "cell_type": "code",
      "metadata": {
        "id": "GtnWXQ8FOayl",
        "colab_type": "code",
        "colab": {
          "base_uri": "https://localhost:8080/",
          "height": 104
        },
        "outputId": "de21d789-1a2d-41d6-a7c8-ddb3eb8c84e0"
      },
      "source": [
        "n = int(input(\"Enter the row number\"))\n",
        "for i in range(1,n+1):\n",
        "  for j in range(1,i+1):\n",
        "    print(\"*\",end=\" \")\n",
        "  print(\"\")"
      ],
      "execution_count": 6,
      "outputs": [
        {
          "output_type": "stream",
          "text": [
            "Enter the row number4\n",
            "* \n",
            "* * \n",
            "* * * \n",
            "* * * * \n"
          ],
          "name": "stdout"
        }
      ]
    },
    {
      "cell_type": "code",
      "metadata": {
        "id": "Lle5pttfOqTm",
        "colab_type": "code",
        "colab": {
          "base_uri": "https://localhost:8080/",
          "height": 121
        },
        "outputId": "1185bf01-f2dc-4478-9e3f-505761f36158"
      },
      "source": [
        "n = int(input(\"Enter the number\"))\n",
        "for i in range(n,0,-1):\n",
        "  for j in range(i,n+1):\n",
        "    print(j,end=\" \")\n",
        "  print(\"\")"
      ],
      "execution_count": 11,
      "outputs": [
        {
          "output_type": "stream",
          "text": [
            "Enter the number5\n",
            "5 \n",
            "4 5 \n",
            "3 4 5 \n",
            "2 3 4 5 \n",
            "1 2 3 4 5 \n"
          ],
          "name": "stdout"
        }
      ]
    },
    {
      "cell_type": "code",
      "metadata": {
        "id": "Ru9tlzUQPhHD",
        "colab_type": "code",
        "colab": {
          "base_uri": "https://localhost:8080/",
          "height": 121
        },
        "outputId": "649312ba-a278-4ad0-8584-81df85f79e75"
      },
      "source": [
        "n = int(input(\"Enter the number\"))\n",
        "for i in range(n,0,-1):\n",
        "  for j in range(i,0,-1):\n",
        "    print(j,end=\" \")\n",
        "  print(\"\")"
      ],
      "execution_count": 15,
      "outputs": [
        {
          "output_type": "stream",
          "text": [
            "Enter the number5\n",
            "5 4 3 2 1 \n",
            "4 3 2 1 \n",
            "3 2 1 \n",
            "2 1 \n",
            "1 \n"
          ],
          "name": "stdout"
        }
      ]
    },
    {
      "cell_type": "code",
      "metadata": {
        "id": "IRFGIploP4zT",
        "colab_type": "code",
        "colab": {
          "base_uri": "https://localhost:8080/",
          "height": 156
        },
        "outputId": "c28393d0-81c2-418e-c566-b803c75358c3"
      },
      "source": [
        "n = int(input(\"Enter the number\"))\n",
        "for i in range(1,n+1):\n",
        "  for j in range(i,n+1):\n",
        "    print(j,end=\" \")\n",
        "  print(\"\")\n",
        "\n",
        "for i in range(n-1,0,-1):\n",
        "  for j in range(i,n+1):\n",
        "    print(j,end=\" \")\n",
        "  print(\"\")"
      ],
      "execution_count": 17,
      "outputs": [
        {
          "output_type": "stream",
          "text": [
            "Enter the number4\n",
            "1 2 3 4 \n",
            "2 3 4 \n",
            "3 4 \n",
            "4 \n",
            "3 4 \n",
            "2 3 4 \n",
            "1 2 3 4 \n"
          ],
          "name": "stdout"
        }
      ]
    },
    {
      "cell_type": "markdown",
      "metadata": {
        "id": "_3V-To5ZQaAx",
        "colab_type": "text"
      },
      "source": [
        "#Find the length of a string without using len functions"
      ]
    },
    {
      "cell_type": "code",
      "metadata": {
        "id": "HhmCAguUQZLW",
        "colab_type": "code",
        "colab": {
          "base_uri": "https://localhost:8080/",
          "height": 52
        },
        "outputId": "3ca75033-b4e5-41af-f4e1-35da005415e3"
      },
      "source": [
        "str = input(\"Enter the string : \")\n",
        "count = 0\n",
        "for i in str:\n",
        "  count += 1\n",
        "print(\"Length of the given string {0} is : {1}\".format(str,count))"
      ],
      "execution_count": 22,
      "outputs": [
        {
          "output_type": "stream",
          "text": [
            "Enter the string : string\n",
            "Length of the given string string is : 6\n"
          ],
          "name": "stdout"
        }
      ]
    },
    {
      "cell_type": "markdown",
      "metadata": {
        "id": "w_HgX2piR1VN",
        "colab_type": "text"
      },
      "source": [
        "#Find the no of words and characters in a string"
      ]
    },
    {
      "cell_type": "code",
      "metadata": {
        "id": "EzsCPlfrRzMU",
        "colab_type": "code",
        "colab": {
          "base_uri": "https://localhost:8080/",
          "height": 52
        },
        "outputId": "8ed145a6-9bee-4aa1-ca24-aafb023d7f29"
      },
      "source": [
        "st = input(\"Enter the string : \")\n",
        "s = st.split()\n",
        "word = 0\n",
        "sn = 0\n",
        "for i in s:\n",
        "  word += 1\n",
        "  for j in i:\n",
        "    sn += 1\n",
        "print(\"In the string '{2}' number of words : {0} and the letters : {1} \".format(word,sn,st))"
      ],
      "execution_count": 34,
      "outputs": [
        {
          "output_type": "stream",
          "text": [
            "Enter the string : the word\n",
            "In the string 'the word' number of words : 2 and the letters : 7 \n"
          ],
          "name": "stdout"
        }
      ]
    },
    {
      "cell_type": "markdown",
      "metadata": {
        "id": "NTfMmXB6UT4j",
        "colab_type": "text"
      },
      "source": [
        "#Find the no of occurrences of a word in a string"
      ]
    },
    {
      "cell_type": "code",
      "metadata": {
        "id": "NqpENj5lUZ5L",
        "colab_type": "code",
        "colab": {
          "base_uri": "https://localhost:8080/",
          "height": 139
        },
        "outputId": "3832727b-760d-4477-9cf3-b8d6cbce518a"
      },
      "source": [
        "import numpy as np\n",
        "st = input(\"Entre the string : \").split()\n",
        "s = np.unique(st)\n",
        "for i in s:\n",
        "  print(i, \" : \", st.count(i))"
      ],
      "execution_count": 40,
      "outputs": [
        {
          "output_type": "stream",
          "text": [
            "Entre the string : The sentence , The word , words of words \n",
            ",  :  2\n",
            "The  :  2\n",
            "of  :  1\n",
            "sentence  :  1\n",
            "word  :  1\n",
            "words  :  2\n"
          ],
          "name": "stdout"
        }
      ]
    }
  ]
}