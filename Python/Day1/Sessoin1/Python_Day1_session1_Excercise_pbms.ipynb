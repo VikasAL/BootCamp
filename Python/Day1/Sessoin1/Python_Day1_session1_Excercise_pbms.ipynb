{
  "nbformat": 4,
  "nbformat_minor": 0,
  "metadata": {
    "colab": {
      "name": "Python_Day1_session1_Excercise pbms.ipynb",
      "provenance": [],
      "collapsed_sections": [],
      "authorship_tag": "ABX9TyOxK9fgZdXnLosvuBOwItc4",
      "include_colab_link": true
    },
    "kernelspec": {
      "name": "python3",
      "display_name": "Python 3"
    }
  },
  "cells": [
    {
      "cell_type": "markdown",
      "metadata": {
        "id": "view-in-github",
        "colab_type": "text"
      },
      "source": [
        "<a href=\"https://colab.research.google.com/github/VikasAL/Boot_Camp/blob/master/Python/Day1/Sessoin1/Python_Day1_session1_Excercise_pbms.ipynb\" target=\"_parent\"><img src=\"https://colab.research.google.com/assets/colab-badge.svg\" alt=\"Open In Colab\"/></a>"
      ]
    },
    {
      "cell_type": "markdown",
      "metadata": {
        "id": "eMxBd_VteuDo",
        "colab_type": "text"
      },
      "source": [
        "#Find the compound interest for the given p,n,r (formula : p(1+n*r/100) n )"
      ]
    },
    {
      "cell_type": "code",
      "metadata": {
        "id": "FFbA-41HeiDB",
        "colab_type": "code",
        "colab": {
          "base_uri": "https://localhost:8080/",
          "height": 86
        },
        "outputId": "63ff3f84-93dc-4ddd-9b07-dfae46f83ce1"
      },
      "source": [
        "p = float(input(\"Initial principal balance : \"))\n",
        "n = float(input(\"Enter the number of times intrest applied per time period : \"))\n",
        "r = float(input(\"Enter the Interest rate : \"))\n",
        "i = p*(1+n*r/100)*n\n",
        "print(\"The Compound interest is : {0}\".format(i))"
      ],
      "execution_count": null,
      "outputs": [
        {
          "output_type": "stream",
          "text": [
            "Initial principal balance : 1000\n",
            "Enter the number of times intrest applied per time period : 2\n",
            "Enter the Interest rate : 4\n",
            "The Compound interest is : 2160.0\n"
          ],
          "name": "stdout"
        }
      ]
    },
    {
      "cell_type": "markdown",
      "metadata": {
        "id": "c0rJW4i_gwCL",
        "colab_type": "text"
      },
      "source": [
        "#Convert centigrade to farenheit ( f= 9/5*c+32)"
      ]
    },
    {
      "cell_type": "code",
      "metadata": {
        "id": "AYv24D5Sgyz3",
        "colab_type": "code",
        "colab": {
          "base_uri": "https://localhost:8080/",
          "height": 52
        },
        "outputId": "dcdb4f78-a7c8-43c3-e7e2-8d028a71421b"
      },
      "source": [
        "centi = float(input(\"Enter the Centegrade Value : \"))\n",
        "farh = 9/5 * centi + 32\n",
        "print(\"The farenheit value of {0}°C is {1}°F\".format(centi,farh))"
      ],
      "execution_count": null,
      "outputs": [
        {
          "output_type": "stream",
          "text": [
            "Enter the Centegrade Value : 36\n",
            "The farenheit value of 36.0°C is 96.8°F\n"
          ],
          "name": "stdout"
        }
      ]
    },
    {
      "cell_type": "markdown",
      "metadata": {
        "id": "2036Hz8ShnLW",
        "colab_type": "text"
      },
      "source": [
        "#Find the greater of two nos"
      ]
    },
    {
      "cell_type": "code",
      "metadata": {
        "id": "b0tQHG9chtNz",
        "colab_type": "code",
        "colab": {
          "base_uri": "https://localhost:8080/",
          "height": 69
        },
        "outputId": "ae7d3eb9-92b0-4572-a446-04cbbcd57f7c"
      },
      "source": [
        "a = int(input(\"Enter the 1st number\"))\n",
        "b = int(input(\"Enyer the 2nd number\"))\n",
        "if a>b:\n",
        "  print(\"{0} is greater\".format(a))\n",
        "else:\n",
        "  print(\"{0} is greater\".format(b))\n"
      ],
      "execution_count": null,
      "outputs": [
        {
          "output_type": "stream",
          "text": [
            "Enter the 1st number3\n",
            "Enyer the 2nd number5\n",
            "5 is greater\n"
          ],
          "name": "stdout"
        }
      ]
    },
    {
      "cell_type": "markdown",
      "metadata": {
        "id": "vDl_mA49itRZ",
        "colab_type": "text"
      },
      "source": [
        "#Write a program for finding surface areas of cylinder and cone (2*PI*r*r*h,1/3*PI*r*r*h) using function."
      ]
    },
    {
      "cell_type": "code",
      "metadata": {
        "id": "QhpyWORpi1-N",
        "colab_type": "code",
        "colab": {
          "base_uri": "https://localhost:8080/",
          "height": 86
        },
        "outputId": "c5e0d801-5686-4b26-f98b-8c91c26d8d5a"
      },
      "source": [
        "import math\n",
        "r = float(input(\"Enter the radius\"))\n",
        "h = float(input(\"Enter the height\"))\n",
        "cy = 2*math.pi*r*r*h\n",
        "co = 1/3*math.pi*r*r*h\n",
        "print(\"Area of Cylinder is : {0}\\nArea of the cone is : {1}\".format(cy,co))"
      ],
      "execution_count": null,
      "outputs": [
        {
          "output_type": "stream",
          "text": [
            "Enter the radius3\n",
            "Enter the height4\n",
            "Area of Cylinder is : 226.1946710584651\n",
            "Area of the cone is : 37.69911184307752\n"
          ],
          "name": "stdout"
        }
      ]
    },
    {
      "cell_type": "markdown",
      "metadata": {
        "id": "80T-koPOkVT5",
        "colab_type": "text"
      },
      "source": [
        "#Find the greatest of four nos ( using ‘and’ operator) using function.\n"
      ]
    },
    {
      "cell_type": "code",
      "metadata": {
        "id": "nJMe-I0KkeUR",
        "colab_type": "code",
        "colab": {
          "base_uri": "https://localhost:8080/",
          "height": 104
        },
        "outputId": "81e84a58-5cdb-4cc7-93f9-503269093fe4"
      },
      "source": [
        "a = float(input(\"Enter the 1st element : \"))\n",
        "b = float(input(\"Enter the 2nd element : \"))\n",
        "c = float(input(\"Enter the 3rd element : \"))\n",
        "d = float(input(\"Enter the 4th element : \"))\n",
        "if(a>b and a>c and a>d):\n",
        "  print(\"{0} is greater\".format(a))\n",
        "elif(b>a and b>c and b>d):\n",
        "  print(\"{0} is greater\".format(b))\n",
        "elif(c>a and c>b and c>d):\n",
        "  print(c,\" is greater\")\n",
        "else:\n",
        "  print(d,\" is greater\")\n"
      ],
      "execution_count": null,
      "outputs": [
        {
          "output_type": "stream",
          "text": [
            "Enter the 1st element : 2\n",
            "Enter the 2nd element : 3\n",
            "Enter the 3rd element : 1\n",
            "Enter the 4th element : 5\n",
            "5.0  is greater\n"
          ],
          "name": "stdout"
        }
      ]
    },
    {
      "cell_type": "markdown",
      "metadata": {
        "id": "NnI2sCGenSvm",
        "colab_type": "text"
      },
      "source": [
        "#Write a menu program to perform the operations ( ODDorEven, Factorial,ODDNoUptoN, PrimeUptoN ) using functions for two nos with menu choice"
      ]
    },
    {
      "cell_type": "code",
      "metadata": {
        "id": "PrNXg_vqndQ6",
        "colab_type": "code",
        "colab": {
          "base_uri": "https://localhost:8080/",
          "height": 920
        },
        "outputId": "0810cd70-271e-45bd-9140-b9563d1eefe1"
      },
      "source": [
        "import math\n",
        "import sympy\n",
        "loop = 1\n",
        "choice = 0\n",
        "while loop :\n",
        "  print(\"\\n\\n1) ODD or EVEN\\n2) Factorial\\n3) ODD no. upto N\\n4) Prime upto N\\n5) Exit\")\n",
        "  try:\n",
        "    choice = int(input(print(\"Enter the Choice\")))\n",
        "  except:\n",
        "    print(\"Enter the valid number\")\n",
        "  \n",
        "  if choice == 1:\n",
        "    n = int(input(\"enter the value : \"))\n",
        "    if n%2==0:\n",
        "      print(n,\" is EVEN\")\n",
        "    else:\n",
        "      print(n,\" is ODD\")\n",
        "  elif choice == 2:\n",
        "    n = int(input(\"enter the value : \"))\n",
        "    print(\"Factorial of {0} is : \".format(n),math.factorial(n))\n",
        "  elif choice == 3:\n",
        "    n = int(input(\"enter the value : \"))\n",
        "    for i in range(n):\n",
        "      if i%2 == 1:\n",
        "        print(i,end=\" \")\n",
        "  elif choice == 4:\n",
        "    n = int(input(\"enter the value : \"))\n",
        "    for i in range(n):\n",
        "      if sympy.isprime(i):\n",
        "        print(i,end=\" \")\n",
        "  elif choice == 5:\n",
        "    loop = 0;\n",
        "    print(\"Thank You...\")\n",
        "\n",
        "\n",
        "\n"
      ],
      "execution_count": null,
      "outputs": [
        {
          "output_type": "stream",
          "text": [
            "\n",
            "\n",
            "1) ODD or EVEN\n",
            "2) Factorial\n",
            "3) ODD no. upto N\n",
            "4) Prime upto N\n",
            "5) Exit\n",
            "Enter the Choice\n",
            "1\n",
            "enter the value : 4\n",
            "4  is EVEN\n",
            "\n",
            "\n",
            "1) ODD or EVEN\n",
            "2) Factorial\n",
            "3) ODD no. upto N\n",
            "4) Prime upto N\n",
            "5) Exit\n",
            "Enter the Choice\n",
            "2\n",
            "enter the value : 5\n",
            "Factorial of 5 is :  120\n",
            "\n",
            "\n",
            "1) ODD or EVEN\n",
            "2) Factorial\n",
            "3) ODD no. upto N\n",
            "4) Prime upto N\n",
            "5) Exit\n",
            "Enter the Choice\n",
            "3\n",
            "enter the value : 15\n",
            "1 3 5 7 9 11 13 \n",
            "\n",
            "1) ODD or EVEN\n",
            "2) Factorial\n",
            "3) ODD no. upto N\n",
            "4) Prime upto N\n",
            "5) Exit\n",
            "Enter the Choice\n",
            "4\n",
            "enter the value : 17\n",
            "2 3 5 7 11 13 \n",
            "\n",
            "1) ODD or EVEN\n",
            "2) Factorial\n",
            "3) ODD no. upto N\n",
            "4) Prime upto N\n",
            "5) Exit\n",
            "Enter the Choice\n",
            "5\n",
            "Thank You...\n"
          ],
          "name": "stdout"
        }
      ]
    },
    {
      "cell_type": "code",
      "metadata": {
        "id": "RmFDx6I9orv2",
        "colab_type": "code",
        "colab": {}
      },
      "source": [
        ""
      ],
      "execution_count": null,
      "outputs": []
    }
  ]
}