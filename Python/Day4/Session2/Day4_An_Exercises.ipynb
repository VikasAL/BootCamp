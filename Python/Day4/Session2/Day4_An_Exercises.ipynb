{
  "nbformat": 4,
  "nbformat_minor": 0,
  "metadata": {
    "colab": {
      "name": "Day4 An Exercises.ipynb",
      "provenance": [],
      "collapsed_sections": [],
      "authorship_tag": "ABX9TyNS9K0cA4cD7ubpx8dqm3iv",
      "include_colab_link": true
    },
    "kernelspec": {
      "name": "python3",
      "display_name": "Python 3"
    }
  },
  "cells": [
    {
      "cell_type": "markdown",
      "metadata": {
        "id": "view-in-github",
        "colab_type": "text"
      },
      "source": [
        "<a href=\"https://colab.research.google.com/github/VikasAL/BootCamp/blob/master/Python/Day4/Session2/Day4_An_Exercises.ipynb\" target=\"_parent\"><img src=\"https://colab.research.google.com/assets/colab-badge.svg\" alt=\"Open In Colab\"/></a>"
      ]
    },
    {
      "cell_type": "markdown",
      "metadata": {
        "id": "v9PeQRhCuDBz",
        "colab_type": "text"
      },
      "source": [
        "#1. Write a function called check() , that takes in a list as the input. It has to return whether every element in it as ‘greater than 5’ or ‘not greater than 5’ or equal to 5. The returned value has to be placed in the list of tuples as (4, 'Less than 5'), (12, 'Greater than 5 '), (5, 'Equal to 5 '), and so on..."
      ]
    },
    {
      "cell_type": "code",
      "metadata": {
        "id": "1yaIYb6ouIUC",
        "colab_type": "code",
        "colab": {
          "base_uri": "https://localhost:8080/",
          "height": 136
        },
        "outputId": "c377675c-bf2e-4fed-a8c3-67109859d8d7"
      },
      "source": [
        "def check(a):\n",
        "  for i in a:\n",
        "    if i<5:\n",
        "      t.append((i,\"Less than 5\"))\n",
        "    elif i>5:\n",
        "      t.append((i,\"Greater than 5\"))\n",
        "    else:\n",
        "      t.append((i,\"Equal to 5\"))\n",
        "  print(t)\n",
        "\n",
        "t= list()\n",
        "lst = [int(input(\"Enter the value\")) for i in range(int(input(\"Enter the n value : \")))]\n",
        "check(lst)\n",
        "\n",
        "\n"
      ],
      "execution_count": 8,
      "outputs": [
        {
          "output_type": "stream",
          "text": [
            "Enter the n value : 5\n",
            "Enter the value3\n",
            "Enter the value8\n",
            "Enter the value2\n",
            "Enter the value9\n",
            "Enter the value5\n",
            "[(3, 'Less than 5'), (8, 'Greater than 5'), (2, 'Less than 5'), (9, 'Greater than 5'), (5, 'Equal to 5')]\n"
          ],
          "name": "stdout"
        }
      ]
    },
    {
      "cell_type": "markdown",
      "metadata": {
        "id": "R4vU8lxpwI6c",
        "colab_type": "text"
      },
      "source": [
        "#2. Write a program in Python to produce Star triangle for any number n\n",
        "#...... for n stars"
      ]
    },
    {
      "cell_type": "code",
      "metadata": {
        "id": "4SqRoajvwNmO",
        "colab_type": "code",
        "colab": {
          "base_uri": "https://localhost:8080/",
          "height": 119
        },
        "outputId": "5677bb3e-45e9-4109-b77c-867a44423a45"
      },
      "source": [
        "n = int(input(\"Enter the n value : \"))\n",
        "j = 2\n",
        "for i in range(n):\n",
        "  for j in range(2,n+2):\n",
        "    if i > n-j:\n",
        "      print(\"*\",end = \" \")\n",
        "    else:\n",
        "      print(\"\",end = \" \")\n",
        "  print(\"\")"
      ],
      "execution_count": 8,
      "outputs": [
        {
          "output_type": "stream",
          "text": [
            "Enter the n value : 5\n",
            "    * \n",
            "   * * \n",
            "  * * * \n",
            " * * * * \n",
            "* * * * * \n"
          ],
          "name": "stdout"
        }
      ]
    },
    {
      "cell_type": "markdown",
      "metadata": {
        "id": "5w6OmJOIyCqt",
        "colab_type": "text"
      },
      "source": [
        "#3. Write a program to produce Fibonacci series using generator in Python"
      ]
    },
    {
      "cell_type": "code",
      "metadata": {
        "id": "pAt21tUjyNaC",
        "colab_type": "code",
        "colab": {
          "base_uri": "https://localhost:8080/",
          "height": 136
        },
        "outputId": "f21adff8-d6e4-4ba1-84fe-6cf681fd515f"
      },
      "source": [
        "\n",
        "def fibo(a):\n",
        "    fib1 ,fib2 = 0,1\n",
        "    while(a):\n",
        "      yield fib1\n",
        "      fib1,fib2 = fib1+fib2, fib1\n",
        "      a -= 1\n",
        "\n",
        "for i in fibo(int(input(\"Enter the n value : \"))):\n",
        "  print(i)"
      ],
      "execution_count": 3,
      "outputs": [
        {
          "output_type": "stream",
          "text": [
            "Enter the n value : 6\n",
            "0\n",
            "1\n",
            "1\n",
            "2\n",
            "3\n",
            "5\n"
          ],
          "name": "stdout"
        }
      ]
    },
    {
      "cell_type": "markdown",
      "metadata": {
        "id": "oDScJ8sY4T2D",
        "colab_type": "text"
      },
      "source": [
        "#4.Write a program to check a number and a string are palindrome or not without using looping statement."
      ]
    },
    {
      "cell_type": "code",
      "metadata": {
        "id": "uq1UZA7i4mQW",
        "colab_type": "code",
        "colab": {
          "base_uri": "https://localhost:8080/",
          "height": 51
        },
        "outputId": "fd344265-316d-41ca-da8f-974a43f293c6"
      },
      "source": [
        "n = input(\"Enter the number or string : \")\n",
        "m = n[::-1]\n",
        "if m == n:\n",
        "  print(\"Palindrome\")\n",
        "else:\n",
        "  print(\"Not a Palindrome\")"
      ],
      "execution_count": 13,
      "outputs": [
        {
          "output_type": "stream",
          "text": [
            "Enter the number or string : malayalam\n",
            "Palindrome\n"
          ],
          "name": "stdout"
        }
      ]
    },
    {
      "cell_type": "markdown",
      "metadata": {
        "id": "qjXiA8dU5vdj",
        "colab_type": "text"
      },
      "source": [
        ""
      ]
    }
  ]
}