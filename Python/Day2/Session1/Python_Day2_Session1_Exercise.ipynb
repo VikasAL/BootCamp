{
  "nbformat": 4,
  "nbformat_minor": 0,
  "metadata": {
    "colab": {
      "name": "Python Day2 Session1 Exercise.ipynb",
      "provenance": [],
      "collapsed_sections": [],
      "authorship_tag": "ABX9TyPCCfQfRDTodLp1v/Fs87by",
      "include_colab_link": true
    },
    "kernelspec": {
      "name": "python3",
      "display_name": "Python 3"
    }
  },
  "cells": [
    {
      "cell_type": "markdown",
      "metadata": {
        "id": "view-in-github",
        "colab_type": "text"
      },
      "source": [
        "<a href=\"https://colab.research.google.com/github/VikasAL/Boot_Camp/blob/master/Python/Day2/Session1/Python_Day2_Session1_Exercise.ipynb\" target=\"_parent\"><img src=\"https://colab.research.google.com/assets/colab-badge.svg\" alt=\"Open In Colab\"/></a>"
      ]
    },
    {
      "cell_type": "markdown",
      "metadata": {
        "id": "puUgkH7F00c3",
        "colab_type": "text"
      },
      "source": [
        "#LIST\n"
      ]
    },
    {
      "cell_type": "markdown",
      "metadata": {
        "id": "Ovwuwynviwx1",
        "colab_type": "text"
      },
      "source": [
        "#Print multiples of 3 upto 200 using a list"
      ]
    },
    {
      "cell_type": "code",
      "metadata": {
        "id": "VoFoScG7i1Zc",
        "colab_type": "code",
        "colab": {
          "base_uri": "https://localhost:8080/",
          "height": 54
        },
        "outputId": "e01de22a-2210-4596-b66f-ba19dc6c5a5b"
      },
      "source": [
        "lst = [3 * i for i in range(201)]\n",
        "print(lst)"
      ],
      "execution_count": 1,
      "outputs": [
        {
          "output_type": "stream",
          "text": [
            "[0, 3, 6, 9, 12, 15, 18, 21, 24, 27, 30, 33, 36, 39, 42, 45, 48, 51, 54, 57, 60, 63, 66, 69, 72, 75, 78, 81, 84, 87, 90, 93, 96, 99, 102, 105, 108, 111, 114, 117, 120, 123, 126, 129, 132, 135, 138, 141, 144, 147, 150, 153, 156, 159, 162, 165, 168, 171, 174, 177, 180, 183, 186, 189, 192, 195, 198, 201, 204, 207, 210, 213, 216, 219, 222, 225, 228, 231, 234, 237, 240, 243, 246, 249, 252, 255, 258, 261, 264, 267, 270, 273, 276, 279, 282, 285, 288, 291, 294, 297, 300, 303, 306, 309, 312, 315, 318, 321, 324, 327, 330, 333, 336, 339, 342, 345, 348, 351, 354, 357, 360, 363, 366, 369, 372, 375, 378, 381, 384, 387, 390, 393, 396, 399, 402, 405, 408, 411, 414, 417, 420, 423, 426, 429, 432, 435, 438, 441, 444, 447, 450, 453, 456, 459, 462, 465, 468, 471, 474, 477, 480, 483, 486, 489, 492, 495, 498, 501, 504, 507, 510, 513, 516, 519, 522, 525, 528, 531, 534, 537, 540, 543, 546, 549, 552, 555, 558, 561, 564, 567, 570, 573, 576, 579, 582, 585, 588, 591, 594, 597, 600]\n"
          ],
          "name": "stdout"
        }
      ]
    },
    {
      "cell_type": "markdown",
      "metadata": {
        "id": "zJYpxaQ8jJ_6",
        "colab_type": "text"
      },
      "source": [
        "#print the nos only divisable by 5 and 7 between 1000 and 2000 using a list( both inclusive)"
      ]
    },
    {
      "cell_type": "code",
      "metadata": {
        "id": "urTf0S21jOf6",
        "colab_type": "code",
        "colab": {
          "base_uri": "https://localhost:8080/",
          "height": 54
        },
        "outputId": "171c81dd-67d9-461b-cf1f-1b08f0e51fd9"
      },
      "source": [
        "lst = [i for i in range(999,2001) if i%5==0 or i%7==0]\n",
        "print(lst)"
      ],
      "execution_count": 2,
      "outputs": [
        {
          "output_type": "stream",
          "text": [
            "[1000, 1001, 1005, 1008, 1010, 1015, 1020, 1022, 1025, 1029, 1030, 1035, 1036, 1040, 1043, 1045, 1050, 1055, 1057, 1060, 1064, 1065, 1070, 1071, 1075, 1078, 1080, 1085, 1090, 1092, 1095, 1099, 1100, 1105, 1106, 1110, 1113, 1115, 1120, 1125, 1127, 1130, 1134, 1135, 1140, 1141, 1145, 1148, 1150, 1155, 1160, 1162, 1165, 1169, 1170, 1175, 1176, 1180, 1183, 1185, 1190, 1195, 1197, 1200, 1204, 1205, 1210, 1211, 1215, 1218, 1220, 1225, 1230, 1232, 1235, 1239, 1240, 1245, 1246, 1250, 1253, 1255, 1260, 1265, 1267, 1270, 1274, 1275, 1280, 1281, 1285, 1288, 1290, 1295, 1300, 1302, 1305, 1309, 1310, 1315, 1316, 1320, 1323, 1325, 1330, 1335, 1337, 1340, 1344, 1345, 1350, 1351, 1355, 1358, 1360, 1365, 1370, 1372, 1375, 1379, 1380, 1385, 1386, 1390, 1393, 1395, 1400, 1405, 1407, 1410, 1414, 1415, 1420, 1421, 1425, 1428, 1430, 1435, 1440, 1442, 1445, 1449, 1450, 1455, 1456, 1460, 1463, 1465, 1470, 1475, 1477, 1480, 1484, 1485, 1490, 1491, 1495, 1498, 1500, 1505, 1510, 1512, 1515, 1519, 1520, 1525, 1526, 1530, 1533, 1535, 1540, 1545, 1547, 1550, 1554, 1555, 1560, 1561, 1565, 1568, 1570, 1575, 1580, 1582, 1585, 1589, 1590, 1595, 1596, 1600, 1603, 1605, 1610, 1615, 1617, 1620, 1624, 1625, 1630, 1631, 1635, 1638, 1640, 1645, 1650, 1652, 1655, 1659, 1660, 1665, 1666, 1670, 1673, 1675, 1680, 1685, 1687, 1690, 1694, 1695, 1700, 1701, 1705, 1708, 1710, 1715, 1720, 1722, 1725, 1729, 1730, 1735, 1736, 1740, 1743, 1745, 1750, 1755, 1757, 1760, 1764, 1765, 1770, 1771, 1775, 1778, 1780, 1785, 1790, 1792, 1795, 1799, 1800, 1805, 1806, 1810, 1813, 1815, 1820, 1825, 1827, 1830, 1834, 1835, 1840, 1841, 1845, 1848, 1850, 1855, 1860, 1862, 1865, 1869, 1870, 1875, 1876, 1880, 1883, 1885, 1890, 1895, 1897, 1900, 1904, 1905, 1910, 1911, 1915, 1918, 1920, 1925, 1930, 1932, 1935, 1939, 1940, 1945, 1946, 1950, 1953, 1955, 1960, 1965, 1967, 1970, 1974, 1975, 1980, 1981, 1985, 1988, 1990, 1995, 2000]\n"
          ],
          "name": "stdout"
        }
      ]
    },
    {
      "cell_type": "markdown",
      "metadata": {
        "id": "uBLAjynqjuO9",
        "colab_type": "text"
      },
      "source": [
        "#Add the n number of names in a list and print them alphabetically and reverse alphabetically."
      ]
    },
    {
      "cell_type": "code",
      "metadata": {
        "id": "tmAbYf3KjxRL",
        "colab_type": "code",
        "colab": {
          "base_uri": "https://localhost:8080/",
          "height": 34
        },
        "outputId": "79947db7-278b-474d-926e-d25365e4fcf0"
      },
      "source": [
        "st = ['vikas','vicky','jhon','hudaif','niranjan']\n",
        "print(sorted(st))"
      ],
      "execution_count": 5,
      "outputs": [
        {
          "output_type": "stream",
          "text": [
            "['hudaif', 'jhon', 'niranjan', 'vicky', 'vikas']\n"
          ],
          "name": "stdout"
        }
      ]
    },
    {
      "cell_type": "markdown",
      "metadata": {
        "id": "iK-p33xQkKU0",
        "colab_type": "text"
      },
      "source": [
        "#Print perfect squares and divisible by 5 between 500 and 1000 (both inclusive) using list comprehension"
      ]
    },
    {
      "cell_type": "code",
      "metadata": {
        "id": "L52OR0BokO0E",
        "colab_type": "code",
        "colab": {
          "base_uri": "https://localhost:8080/",
          "height": 34
        },
        "outputId": "00e21cec-b9fc-4648-b602-22c76270a7e9"
      },
      "source": [
        "import math\n",
        "lst = [i for i in range(499,1001) if i%5==0]\n",
        "for i in lst:\n",
        "  a,b=math.modf(math.sqrt(i))\n",
        "  if a==0:\n",
        "    print(b**2,end=\" \")\n"
      ],
      "execution_count": 11,
      "outputs": [
        {
          "output_type": "stream",
          "text": [
            "625.0 900.0 "
          ],
          "name": "stdout"
        }
      ]
    },
    {
      "cell_type": "markdown",
      "metadata": {
        "id": "Zkorpz-8lr4s",
        "colab_type": "text"
      },
      "source": [
        "#Calculate the Average of the numbers in a List by getting the elements of list from keyboard ."
      ]
    },
    {
      "cell_type": "code",
      "metadata": {
        "id": "mMY75vAylx20",
        "colab_type": "code",
        "colab": {
          "base_uri": "https://localhost:8080/",
          "height": 153
        },
        "outputId": "820e5609-8572-4012-bb89-6c0e90ca81fa"
      },
      "source": [
        "lst = []\n",
        "n = int(input(\"Enter the number of elements : \"))\n",
        "print(\"Enter the Elements \")\n",
        "for i in range(n):\n",
        "  lst.append(int(input()))\n",
        "print(\"The average : \",sum(lst)/len(lst))"
      ],
      "execution_count": 14,
      "outputs": [
        {
          "output_type": "stream",
          "text": [
            "Enter the number of elements : 5\n",
            "Enter the Elements \n",
            "1\n",
            "2\n",
            "3\n",
            "4\n",
            "5\n",
            "The average :  3.0\n"
          ],
          "name": "stdout"
        }
      ]
    },
    {
      "cell_type": "markdown",
      "metadata": {
        "id": "9tIh7LzWmqu3",
        "colab_type": "text"
      },
      "source": [
        "#Print lists of odd,even and multiples of 5 numbers from 1 to 1000 using list comprehension"
      ]
    },
    {
      "cell_type": "code",
      "metadata": {
        "id": "9FNxm80HoTpm",
        "colab_type": "code",
        "colab": {
          "base_uri": "https://localhost:8080/",
          "height": 88
        },
        "outputId": "0d267188-8007-4b17-b42a-03834bbcefce"
      },
      "source": [
        "lst1,lst2,lst3 = [], [], []\n",
        "for i in range(1, 1000):\n",
        "  if i % 5 == 0:\n",
        "    lst1.append(i)\n",
        "  elif  i % 2==0:\n",
        "    lst2.append(i)\n",
        "  elif i %2 ==1:\n",
        "    lst3.append(i)\n",
        "print(\"ODD : {0}\\nEVEN : {1}\\nMultiple of 5 : {2}\".format(lst3,lst2,lst1))"
      ],
      "execution_count": 17,
      "outputs": [
        {
          "output_type": "stream",
          "text": [
            "ODD : [1, 3, 7, 9, 11, 13, 17, 19, 21, 23, 27, 29, 31, 33, 37, 39, 41, 43, 47, 49, 51, 53, 57, 59, 61, 63, 67, 69, 71, 73, 77, 79, 81, 83, 87, 89, 91, 93, 97, 99, 101, 103, 107, 109, 111, 113, 117, 119, 121, 123, 127, 129, 131, 133, 137, 139, 141, 143, 147, 149, 151, 153, 157, 159, 161, 163, 167, 169, 171, 173, 177, 179, 181, 183, 187, 189, 191, 193, 197, 199, 201, 203, 207, 209, 211, 213, 217, 219, 221, 223, 227, 229, 231, 233, 237, 239, 241, 243, 247, 249, 251, 253, 257, 259, 261, 263, 267, 269, 271, 273, 277, 279, 281, 283, 287, 289, 291, 293, 297, 299, 301, 303, 307, 309, 311, 313, 317, 319, 321, 323, 327, 329, 331, 333, 337, 339, 341, 343, 347, 349, 351, 353, 357, 359, 361, 363, 367, 369, 371, 373, 377, 379, 381, 383, 387, 389, 391, 393, 397, 399, 401, 403, 407, 409, 411, 413, 417, 419, 421, 423, 427, 429, 431, 433, 437, 439, 441, 443, 447, 449, 451, 453, 457, 459, 461, 463, 467, 469, 471, 473, 477, 479, 481, 483, 487, 489, 491, 493, 497, 499, 501, 503, 507, 509, 511, 513, 517, 519, 521, 523, 527, 529, 531, 533, 537, 539, 541, 543, 547, 549, 551, 553, 557, 559, 561, 563, 567, 569, 571, 573, 577, 579, 581, 583, 587, 589, 591, 593, 597, 599, 601, 603, 607, 609, 611, 613, 617, 619, 621, 623, 627, 629, 631, 633, 637, 639, 641, 643, 647, 649, 651, 653, 657, 659, 661, 663, 667, 669, 671, 673, 677, 679, 681, 683, 687, 689, 691, 693, 697, 699, 701, 703, 707, 709, 711, 713, 717, 719, 721, 723, 727, 729, 731, 733, 737, 739, 741, 743, 747, 749, 751, 753, 757, 759, 761, 763, 767, 769, 771, 773, 777, 779, 781, 783, 787, 789, 791, 793, 797, 799, 801, 803, 807, 809, 811, 813, 817, 819, 821, 823, 827, 829, 831, 833, 837, 839, 841, 843, 847, 849, 851, 853, 857, 859, 861, 863, 867, 869, 871, 873, 877, 879, 881, 883, 887, 889, 891, 893, 897, 899, 901, 903, 907, 909, 911, 913, 917, 919, 921, 923, 927, 929, 931, 933, 937, 939, 941, 943, 947, 949, 951, 953, 957, 959, 961, 963, 967, 969, 971, 973, 977, 979, 981, 983, 987, 989, 991, 993, 997, 999]\n",
            "EVEN : [2, 4, 6, 8, 12, 14, 16, 18, 22, 24, 26, 28, 32, 34, 36, 38, 42, 44, 46, 48, 52, 54, 56, 58, 62, 64, 66, 68, 72, 74, 76, 78, 82, 84, 86, 88, 92, 94, 96, 98, 102, 104, 106, 108, 112, 114, 116, 118, 122, 124, 126, 128, 132, 134, 136, 138, 142, 144, 146, 148, 152, 154, 156, 158, 162, 164, 166, 168, 172, 174, 176, 178, 182, 184, 186, 188, 192, 194, 196, 198, 202, 204, 206, 208, 212, 214, 216, 218, 222, 224, 226, 228, 232, 234, 236, 238, 242, 244, 246, 248, 252, 254, 256, 258, 262, 264, 266, 268, 272, 274, 276, 278, 282, 284, 286, 288, 292, 294, 296, 298, 302, 304, 306, 308, 312, 314, 316, 318, 322, 324, 326, 328, 332, 334, 336, 338, 342, 344, 346, 348, 352, 354, 356, 358, 362, 364, 366, 368, 372, 374, 376, 378, 382, 384, 386, 388, 392, 394, 396, 398, 402, 404, 406, 408, 412, 414, 416, 418, 422, 424, 426, 428, 432, 434, 436, 438, 442, 444, 446, 448, 452, 454, 456, 458, 462, 464, 466, 468, 472, 474, 476, 478, 482, 484, 486, 488, 492, 494, 496, 498, 502, 504, 506, 508, 512, 514, 516, 518, 522, 524, 526, 528, 532, 534, 536, 538, 542, 544, 546, 548, 552, 554, 556, 558, 562, 564, 566, 568, 572, 574, 576, 578, 582, 584, 586, 588, 592, 594, 596, 598, 602, 604, 606, 608, 612, 614, 616, 618, 622, 624, 626, 628, 632, 634, 636, 638, 642, 644, 646, 648, 652, 654, 656, 658, 662, 664, 666, 668, 672, 674, 676, 678, 682, 684, 686, 688, 692, 694, 696, 698, 702, 704, 706, 708, 712, 714, 716, 718, 722, 724, 726, 728, 732, 734, 736, 738, 742, 744, 746, 748, 752, 754, 756, 758, 762, 764, 766, 768, 772, 774, 776, 778, 782, 784, 786, 788, 792, 794, 796, 798, 802, 804, 806, 808, 812, 814, 816, 818, 822, 824, 826, 828, 832, 834, 836, 838, 842, 844, 846, 848, 852, 854, 856, 858, 862, 864, 866, 868, 872, 874, 876, 878, 882, 884, 886, 888, 892, 894, 896, 898, 902, 904, 906, 908, 912, 914, 916, 918, 922, 924, 926, 928, 932, 934, 936, 938, 942, 944, 946, 948, 952, 954, 956, 958, 962, 964, 966, 968, 972, 974, 976, 978, 982, 984, 986, 988, 992, 994, 996, 998]\n",
            "Multiple of 5 : [5, 10, 15, 20, 25, 30, 35, 40, 45, 50, 55, 60, 65, 70, 75, 80, 85, 90, 95, 100, 105, 110, 115, 120, 125, 130, 135, 140, 145, 150, 155, 160, 165, 170, 175, 180, 185, 190, 195, 200, 205, 210, 215, 220, 225, 230, 235, 240, 245, 250, 255, 260, 265, 270, 275, 280, 285, 290, 295, 300, 305, 310, 315, 320, 325, 330, 335, 340, 345, 350, 355, 360, 365, 370, 375, 380, 385, 390, 395, 400, 405, 410, 415, 420, 425, 430, 435, 440, 445, 450, 455, 460, 465, 470, 475, 480, 485, 490, 495, 500, 505, 510, 515, 520, 525, 530, 535, 540, 545, 550, 555, 560, 565, 570, 575, 580, 585, 590, 595, 600, 605, 610, 615, 620, 625, 630, 635, 640, 645, 650, 655, 660, 665, 670, 675, 680, 685, 690, 695, 700, 705, 710, 715, 720, 725, 730, 735, 740, 745, 750, 755, 760, 765, 770, 775, 780, 785, 790, 795, 800, 805, 810, 815, 820, 825, 830, 835, 840, 845, 850, 855, 860, 865, 870, 875, 880, 885, 890, 895, 900, 905, 910, 915, 920, 925, 930, 935, 940, 945, 950, 955, 960, 965, 970, 975, 980, 985, 990, 995]\n"
          ],
          "name": "stdout"
        }
      ]
    },
    {
      "cell_type": "markdown",
      "metadata": {
        "id": "nzj65_ALrq05",
        "colab_type": "text"
      },
      "source": [
        "#TUPLE"
      ]
    },
    {
      "cell_type": "markdown",
      "metadata": {
        "id": "dVXZTp41ryrW",
        "colab_type": "text"
      },
      "source": [
        "#Python Program to Create a List of Tuples with the First Element as the Number and Second Element as the Square of the Number"
      ]
    },
    {
      "cell_type": "code",
      "metadata": {
        "id": "BwO8Qv8yr51-",
        "colab_type": "code",
        "colab": {
          "base_uri": "https://localhost:8080/",
          "height": 34
        },
        "outputId": "125ce508-8ca2-4e80-d8ea-3dbca26d6805"
      },
      "source": [
        "t = list()\n",
        "[t.append((i,i**2)) for i in range(10)]\n",
        "print(t)"
      ],
      "execution_count": 21,
      "outputs": [
        {
          "output_type": "stream",
          "text": [
            "[(0, 0), (1, 1), (2, 4), (3, 9), (4, 16), (5, 25), (6, 36), (7, 49), (8, 64), (9, 81)]\n"
          ],
          "name": "stdout"
        }
      ]
    },
    {
      "cell_type": "markdown",
      "metadata": {
        "id": "GgHZBp66uJXw",
        "colab_type": "text"
      },
      "source": [
        "#Write python program to have a list of words to sort them from shortest to longest using list of tuples"
      ]
    },
    {
      "cell_type": "code",
      "metadata": {
        "id": "ondSb6oGuZFm",
        "colab_type": "code",
        "colab": {
          "base_uri": "https://localhost:8080/",
          "height": 34
        },
        "outputId": "8113eb3a-d919-4d82-800b-f517ece8ac61"
      },
      "source": [
        "lst = ['words','sentence','word','cat','dog']\n",
        "t = list()\n",
        "for word in lst:\n",
        "  t.append((len(word),word))\n",
        "t.sort()\n",
        "for len,word in t:\n",
        "  print(word,end=\" \")\n"
      ],
      "execution_count": 27,
      "outputs": [
        {
          "output_type": "stream",
          "text": [
            "cat dog word words sentence "
          ],
          "name": "stdout"
        }
      ]
    },
    {
      "cell_type": "markdown",
      "metadata": {
        "id": "f3NWCP88vu4h",
        "colab_type": "text"
      },
      "source": [
        "#Write python program to get a list of tuples of Rollno,Name for 5 students through keyboard and sort them Rollno wise ascending order"
      ]
    },
    {
      "cell_type": "code",
      "metadata": {
        "id": "mBbkkqFKwKD3",
        "colab_type": "code",
        "colab": {
          "base_uri": "https://localhost:8080/",
          "height": 204
        },
        "outputId": "a888ff17-058a-4bf5-e9e5-a71d6c6e9ca5"
      },
      "source": [
        "t = list()\n",
        "for i in range(5):\n",
        "  t.append((input(\"Enter the Rollno : \"),input(\"Enter the Name : \")))\n",
        "t.sort()\n",
        "print(t)"
      ],
      "execution_count": 29,
      "outputs": [
        {
          "output_type": "stream",
          "text": [
            "Enter the Rollno : 3\n",
            "Enter the Name : Ajay\n",
            "Enter the Rollno : 2\n",
            "Enter the Name : Vijay\n",
            "Enter the Rollno : 5\n",
            "Enter the Name : Sujay\n",
            "Enter the Rollno : 1\n",
            "Enter the Name : Jay\n",
            "Enter the Rollno : 4\n",
            "Enter the Name : JayJay\n",
            "[('1', 'Jay'), ('2', 'Vijay'), ('3', 'Ajay'), ('4', 'JayJay'), ('5', 'Sujay')]\n"
          ],
          "name": "stdout"
        }
      ]
    },
    {
      "cell_type": "markdown",
      "metadata": {
        "id": "umKVxSi6ydb5",
        "colab_type": "text"
      },
      "source": [
        "#Write python program to get a list of tuples of Rollno,Name for 5 students through keyboard and sort them by Rollno wise descending order"
      ]
    },
    {
      "cell_type": "code",
      "metadata": {
        "id": "Tzw2SwHAylaZ",
        "colab_type": "code",
        "colab": {
          "base_uri": "https://localhost:8080/",
          "height": 204
        },
        "outputId": "dfd04a7f-430d-4618-d945-2c0aada6477b"
      },
      "source": [
        "t = list()\n",
        "for i in range(5):\n",
        "  t.append((input(\"Enter the Rollno : \"),input(\"Enter the Name : \")))\n",
        "t.sort(reverse=True)\n",
        "print(t)"
      ],
      "execution_count": 30,
      "outputs": [
        {
          "output_type": "stream",
          "text": [
            "Enter the Rollno : 1\n",
            "Enter the Name : Jay\n",
            "Enter the Rollno : 5\n",
            "Enter the Name : Ajay\n",
            "Enter the Rollno : 3\n",
            "Enter the Name : Sujay\n",
            "Enter the Rollno : 4\n",
            "Enter the Name : JayJay\n",
            "Enter the Rollno : 2\n",
            "Enter the Name : Vijay\n",
            "[('5', 'Ajay'), ('4', 'JayJay'), ('3', 'Sujay'), ('2', 'Vijay'), ('1', 'Jay')]\n"
          ],
          "name": "stdout"
        }
      ]
    },
    {
      "cell_type": "markdown",
      "metadata": {
        "id": "iM_OIjtyzY9R",
        "colab_type": "text"
      },
      "source": [
        "#Write python program to get a list of tuples of Rollno,Name for 5 students through keyboard and sort them by Name wise ascending order"
      ]
    },
    {
      "cell_type": "code",
      "metadata": {
        "id": "vaZYk0C5zq0w",
        "colab_type": "code",
        "colab": {
          "base_uri": "https://localhost:8080/",
          "height": 204
        },
        "outputId": "a1e9a257-d35d-4759-a51c-69428e7f23d0"
      },
      "source": [
        "t = list()\n",
        "for i in range(5):\n",
        "  t.append((input(\"Enter the Name : \"),input(\"Enter the Rollno : \")))\n",
        "t.sort()\n",
        "print(t)"
      ],
      "execution_count": 33,
      "outputs": [
        {
          "output_type": "stream",
          "text": [
            "Enter the Name : Ajay\n",
            "Enter the Rollno : 5\n",
            "Enter the Name : Vijay\n",
            "Enter the Rollno : 2\n",
            "Enter the Name : Jay\n",
            "Enter the Rollno : 1\n",
            "Enter the Name : Sujay\n",
            "Enter the Rollno : 4\n",
            "Enter the Name : JayJay\n",
            "Enter the Rollno : 3\n",
            "[('Ajay', '5'), ('Jay', '1'), ('JayJay', '3'), ('Sujay', '4'), ('Vijay', '2')]\n"
          ],
          "name": "stdout"
        }
      ]
    },
    {
      "cell_type": "markdown",
      "metadata": {
        "id": "Ix_eI0tny40X",
        "colab_type": "text"
      },
      "source": [
        "#Write python program to get a list of tuples of Rollno,Name for 5 students through keyboard and sort them by Name wise descending order"
      ]
    },
    {
      "cell_type": "code",
      "metadata": {
        "id": "fzKRicAMzBQw",
        "colab_type": "code",
        "colab": {
          "base_uri": "https://localhost:8080/",
          "height": 204
        },
        "outputId": "e1aa48a7-014f-4854-f5ce-b0a0b01b2af3"
      },
      "source": [
        "t = list()\n",
        "for i in range(5):\n",
        "  t.append((input(\"Enter the Name : \"),input(\"Enter the Rollno : \")))\n",
        "t.sort(reverse=True)\n",
        "print(t)"
      ],
      "execution_count": 31,
      "outputs": [
        {
          "output_type": "stream",
          "text": [
            "Enter the Name : Ajay\n",
            "Enter the Rollno : 5\n",
            "Enter the Name : Sujay\n",
            "Enter the Rollno : 3\n",
            "Enter the Name : Vijay\n",
            "Enter the Rollno : 2\n",
            "Enter the Name : Jay\n",
            "Enter the Rollno : 1\n",
            "Enter the Name : JayJay\n",
            "Enter the Rollno : 4\n",
            "[('Vijay', '2'), ('Sujay', '3'), ('JayJay', '4'), ('Jay', '1'), ('Ajay', '5')]\n"
          ],
          "name": "stdout"
        }
      ]
    }
  ]
}