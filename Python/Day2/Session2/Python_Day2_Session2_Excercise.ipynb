{
  "nbformat": 4,
  "nbformat_minor": 0,
  "metadata": {
    "colab": {
      "name": "Python Day2 Session2 Excercise.ipynb",
      "provenance": [],
      "collapsed_sections": [],
      "toc_visible": true,
      "authorship_tag": "ABX9TyMQcM5/Di012rI1T+IUAaHX",
      "include_colab_link": true
    },
    "kernelspec": {
      "name": "python3",
      "display_name": "Python 3"
    }
  },
  "cells": [
    {
      "cell_type": "markdown",
      "metadata": {
        "id": "view-in-github",
        "colab_type": "text"
      },
      "source": [
        "<a href=\"https://colab.research.google.com/github/VikasAL/BootCamp/blob/master/Python/Day2/Session2/Python_Day2_Session2_Excercise.ipynb\" target=\"_parent\"><img src=\"https://colab.research.google.com/assets/colab-badge.svg\" alt=\"Open In Colab\"/></a>"
      ]
    },
    {
      "cell_type": "markdown",
      "metadata": {
        "id": "E1nAT5k685u1",
        "colab_type": "text"
      },
      "source": [
        "#DICTIONARY"
      ]
    },
    {
      "cell_type": "markdown",
      "metadata": {
        "id": "klvRuNRu89NT",
        "colab_type": "text"
      },
      "source": [
        "#Add rollno and marks {name:mark} for n number of students through keyboard in a dictionary and print the marks in descending order with respective name."
      ]
    },
    {
      "cell_type": "code",
      "metadata": {
        "id": "c1FA8cFl9Ewj",
        "colab_type": "code",
        "colab": {
          "base_uri": "https://localhost:8080/",
          "height": 187
        },
        "outputId": "c189aacd-a293-47cc-efba-91d6b81b4b21"
      },
      "source": [
        "import operator\n",
        "t = {}\n",
        "n = int(input(\"Enter number of students\"))\n",
        "for i in range(n):\n",
        "  key = input(\"Enter the name\")\n",
        "  value = input(\"Enter the marks\")\n",
        "  t[key] = value\n",
        "a = sorted(t.items(), key=operator.itemgetter(1), reverse=True)\n",
        "for i in a:\n",
        "  print(i[0],\"=\",t[i[0]])"
      ],
      "execution_count": 5,
      "outputs": [
        {
          "output_type": "stream",
          "text": [
            "Enter number of students3\n",
            "Enter the nameAjay\n",
            "Enter the marks78\n",
            "Enter the nameVijay\n",
            "Enter the marks98\n",
            "Enter the nameJay\n",
            "Enter the marks69\n",
            "Vijay = 98\n",
            "Ajay = 78\n",
            "Jay = 69\n"
          ],
          "name": "stdout"
        }
      ]
    },
    {
      "cell_type": "markdown",
      "metadata": {
        "id": "2vQrgdSW9Htz",
        "colab_type": "text"
      },
      "source": [
        "#Add name and salary {name:salary} for n number of employees through keyboard in a dictionary and print them in name alphabetical order with salary"
      ]
    },
    {
      "cell_type": "code",
      "metadata": {
        "id": "B0VrZAA-9KUs",
        "colab_type": "code",
        "colab": {
          "base_uri": "https://localhost:8080/",
          "height": 187
        },
        "outputId": "c1f5ef48-7383-4ef1-f40f-64545032a35d"
      },
      "source": [
        "t = {}\n",
        "n = int(input(\"Enter number of employees\"))\n",
        "for i in range(n):\n",
        "  key = input(\"Enter the name\")\n",
        "  value = input(\"Enter the salary\")\n",
        "  t[key] = value\n",
        "a = sorted(t)\n",
        "for i in a:\n",
        "  print(i, \"=>\",t[i])"
      ],
      "execution_count": 4,
      "outputs": [
        {
          "output_type": "stream",
          "text": [
            "Enter number of employees3\n",
            "Enter the nameAjay\n",
            "Enter the salary33000\n",
            "Enter the nameVijay\n",
            "Enter the salary34000\n",
            "Enter the nameSujay\n",
            "Enter the salary39999\n",
            "Ajay => 33000\n",
            "Sujay => 39999\n",
            "Vijay => 34000\n"
          ],
          "name": "stdout"
        }
      ]
    },
    {
      "cell_type": "markdown",
      "metadata": {
        "id": "aGL_in7l9NmD",
        "colab_type": "text"
      },
      "source": [
        "#Add name and salary {name:salary} for n number of employees through keyboard in a dictionary and print them in salary ascending order and sum, max, min and average of the salaries"
      ]
    },
    {
      "cell_type": "code",
      "metadata": {
        "id": "k0Z7xMM99QLc",
        "colab_type": "code",
        "colab": {
          "base_uri": "https://localhost:8080/",
          "height": 255
        },
        "outputId": "013b8c46-aed1-4258-dc68-82c321b09964"
      },
      "source": [
        "import operator\n",
        "t = {}\n",
        "n = int(input(\"Enter number of employees\"))\n",
        "for i in range(n):\n",
        "  key = input(\"Enter the name\")\n",
        "  value = int(input(\"Enter the salary\"))\n",
        "  t[key] = value\n",
        "a = sorted(t.items(), key=operator.itemgetter(1))\n",
        "for i in a:\n",
        "  print(i[0],\"=\",t[i[0]])\n",
        "val = t.values()\n",
        "print(\"sum = \",sum(val))\n",
        "print(\"maximum value = \",max(t.values()))\n",
        "print(\"minimum value = \",min(t.values()))\n",
        "print(\"Average value = \",sum(val)/n)"
      ],
      "execution_count": 3,
      "outputs": [
        {
          "output_type": "stream",
          "text": [
            "Enter number of employees3\n",
            "Enter the nameAjay\n",
            "Enter the salary25000\n",
            "Enter the nameVijay\n",
            "Enter the salary30000\n",
            "Enter the nameJayJay\n",
            "Enter the salary45000\n",
            "Ajay = 25000\n",
            "Vijay = 30000\n",
            "JayJay = 45000\n",
            "sum =  100000\n",
            "maximum value =  45000\n",
            "minimum value =  25000\n",
            "Average value =  33333.333333333336\n"
          ],
          "name": "stdout"
        }
      ]
    },
    {
      "cell_type": "markdown",
      "metadata": {
        "id": "qbbDC8VN9SiT",
        "colab_type": "text"
      },
      "source": [
        "#Add name and salary {name:salary} for n number of employees through keyboard in a dictionary and print only the employees whose salary is greater than 2000 but less than 4000"
      ]
    },
    {
      "cell_type": "code",
      "metadata": {
        "id": "nxUUSROU9Utb",
        "colab_type": "code",
        "colab": {
          "base_uri": "https://localhost:8080/",
          "height": 153
        },
        "outputId": "ac43a45e-12f8-4b7b-9b5a-f5d58acc059d"
      },
      "source": [
        "t = {}\n",
        "n = int(input(\"Enter number of employees\"))\n",
        "for i in range(n):\n",
        "  key = input(\"Enter the name\")\n",
        "  value = int(input(\"Enter the salary\"))\n",
        "  t[key] = value\n",
        "for i in t:\n",
        "  if int(t[i])>2000 and int(t[i])<4000:\n",
        "    print(t[i])"
      ],
      "execution_count": 2,
      "outputs": [
        {
          "output_type": "stream",
          "text": [
            "Enter number of employees3\n",
            "Enter the nameAjay\n",
            "Enter the salary2500\n",
            "Enter the nameVijay\n",
            "Enter the salary5000\n",
            "Enter the nameJay\n",
            "Enter the salary1000\n",
            "2500\n"
          ],
          "name": "stdout"
        }
      ]
    },
    {
      "cell_type": "markdown",
      "metadata": {
        "id": "jOLlex_e9W7T",
        "colab_type": "text"
      },
      "source": [
        "#Python program to convert a 3 digit number into words"
      ]
    },
    {
      "cell_type": "code",
      "metadata": {
        "id": "0DErQhQh9Z97",
        "colab_type": "code",
        "colab": {
          "base_uri": "https://localhost:8080/",
          "height": 51
        },
        "outputId": "4cbbadb0-14c0-4e64-ede0-bf30f92d793f"
      },
      "source": [
        "d={0:'',1:'one',2:'two',3:'three',4:'four',5:'five',6:'six',7:'seven',8:'eight',9:'nine',\\\n",
        "   10:'ten',11:'eleven',12:'twelve',13:'thirteen',14:'fourteen',15:'fifteen',16:'sixteen',\\\n",
        "   17:'seventeen',18:'eightteen',19:'nineteen',20:'twenty',30:'thirty',40:'fourty',50:'fifty',\\\n",
        "   60:'sixty',70:'seventy',80:'eighty',90:'ninty',100:'hundred'}\n",
        "\n",
        "num=int(input(\"Enter the integer between 1 to 999:\"))\n",
        "if (num<=20):\n",
        "      print(d[num])\n",
        "if(num>20 and num<100):\n",
        "        if num%10==0:       \n",
        "            print(d[num])\n",
        "        else:\n",
        "            print(d[num//10*10]+\" \"+d[num%10])\n",
        "if(num>99 and num<1000):\n",
        "        if(num>100 and num<199):\n",
        "            print(d[num//10//10*100]+\" \"+d[num//10%10*10]+\" \"+d[num%10])\n",
        "        else:\n",
        "            print(d[num//100]+d[100]+\" \"+d[num//10%10*10]+\" \"+d[num%10])\n"
      ],
      "execution_count": 1,
      "outputs": [
        {
          "output_type": "stream",
          "text": [
            "Enter the integer between 1 to 999:999\n",
            "ninehundred ninty nine\n"
          ],
          "name": "stdout"
        }
      ]
    },
    {
      "cell_type": "markdown",
      "metadata": {
        "id": "LzkVstuH-tDq",
        "colab_type": "text"
      },
      "source": [
        "#FILES"
      ]
    },
    {
      "cell_type": "markdown",
      "metadata": {
        "id": "ZaIWNv-1-wKS",
        "colab_type": "text"
      },
      "source": [
        "#Python Program to count the total number of charaters (except blank space) in a text file."
      ]
    },
    {
      "cell_type": "code",
      "metadata": {
        "id": "odeh-quO_F6V",
        "colab_type": "code",
        "colab": {
          "base_uri": "https://localhost:8080/",
          "height": 51
        },
        "outputId": "74b5aa3e-2ad5-4f31-a8b5-7bd443de2d04"
      },
      "source": [
        "filename = input(\"Enter the filename : \")\n",
        "c = 0\n",
        "with open (filename,'r') as f:\n",
        "  for i in f:\n",
        "    for j in i:\n",
        "      if j != '\\n':\n",
        "        c += 1\n",
        "print(\"Total No. of Charecters are : \",c)"
      ],
      "execution_count": 9,
      "outputs": [
        {
          "output_type": "stream",
          "text": [
            "Enter the filename : /content/Sample File .txt.txt\n",
            "Total No. of Charecters are :  175\n"
          ],
          "name": "stdout"
        }
      ]
    },
    {
      "cell_type": "markdown",
      "metadata": {
        "id": "NU5tkK8d_GYU",
        "colab_type": "text"
      },
      "source": [
        "#Python Program to print all the numbers present in a text file with its total number of occurrence."
      ]
    },
    {
      "cell_type": "code",
      "metadata": {
        "id": "W_CyOnBS_LIK",
        "colab_type": "code",
        "colab": {
          "base_uri": "https://localhost:8080/",
          "height": 51
        },
        "outputId": "77b3f15d-71c7-4785-8950-e9e00b0153cb"
      },
      "source": [
        "filename : input(\"Enter the filename : \")\n",
        "d = {x:0 for x in range(0,10)}\n",
        "with open(filename,'r') as f:\n",
        "  for i in f:\n",
        "    for j in i:\n",
        "      if j.isdigit():\n",
        "        d[int(j)] +=1\n",
        "d1 = {key:val for key,val in d.items() if val>0}\n",
        "print(d1)\n",
        "      "
      ],
      "execution_count": 11,
      "outputs": [
        {
          "output_type": "stream",
          "text": [
            "Enter the filename : /content/Sample File .txt.txt\n",
            "{2: 1, 4: 3, 5: 3, 6: 2, 7: 1, 8: 1, 9: 1}\n"
          ],
          "name": "stdout"
        }
      ]
    },
    {
      "cell_type": "markdown",
      "metadata": {
        "id": "xeLpYQK1_LsE",
        "colab_type": "text"
      },
      "source": [
        "#Python Program to append the contents of one file to another file by getting the both file names through keyboard"
      ]
    },
    {
      "cell_type": "code",
      "metadata": {
        "id": "vKMTN8EN_PsC",
        "colab_type": "code",
        "colab": {
          "base_uri": "https://localhost:8080/",
          "height": 51
        },
        "outputId": "424579cb-3256-4322-a4d0-0511f138eb8a"
      },
      "source": [
        "file1 = input(\"Enter the 1st file name : \")\n",
        "file2 = input(\"Enter the 2nd file name : \")\n",
        "f1 = open(file1,'a')\n",
        "with open(file2,'r') as f2:\n",
        "  for line in f2:\n",
        "    f1.write(line)\n",
        "\n"
      ],
      "execution_count": 20,
      "outputs": [
        {
          "output_type": "stream",
          "text": [
            "Enter the 1st file name : /content/Sample File .txt.txt\n",
            "Enter the 2nd file name : /content/Sample File 2.txt\n"
          ],
          "name": "stdout"
        }
      ]
    },
    {
      "cell_type": "markdown",
      "metadata": {
        "id": "MGUPatKk_Qcd",
        "colab_type": "text"
      },
      "source": [
        "#Python Program to count the number of blank spaces in a text file."
      ]
    },
    {
      "cell_type": "code",
      "metadata": {
        "id": "4H6Lhbtx_TFD",
        "colab_type": "code",
        "colab": {
          "base_uri": "https://localhost:8080/",
          "height": 51
        },
        "outputId": "1cea17f6-271b-4537-9d0d-38c26a263a8f"
      },
      "source": [
        "filename = input(\"Enter file name: \")\n",
        "count = 0\n",
        "with open(filename, 'r') as f:\n",
        "    for line in f:\n",
        "        for i in line:\n",
        "              if i ==\" \":\n",
        "                  count=count+1\n",
        "print(\"Total blanke spaces are : \",count)\n"
      ],
      "execution_count": 33,
      "outputs": [
        {
          "output_type": "stream",
          "text": [
            "Enter file name: /content/Sample File 2.txt\n",
            "Total blanke spaces are :  8\n"
          ],
          "name": "stdout"
        }
      ]
    },
    {
      "cell_type": "markdown",
      "metadata": {
        "id": "rriB1mJl_T08",
        "colab_type": "text"
      },
      "source": [
        "#Python Program to read a file and capitalize the first letter of every word in the file and copy the every word capitalized content into another file and read it ."
      ]
    },
    {
      "cell_type": "code",
      "metadata": {
        "id": "gVt88Low_YJL",
        "colab_type": "code",
        "colab": {
          "base_uri": "https://localhost:8080/",
          "height": 156
        },
        "outputId": "eadd2a49-236b-499a-dcec-7030a8acf8e7"
      },
      "source": [
        "fname = input(\"Enter file name: \")\n",
        "fname1 = input(\"Enter another filename: \")\n",
        "with open(fname, 'r') as f:\n",
        "  with open(fname1, \"w\") as f1:\n",
        "    for line in f:\n",
        "        l=line.title()\n",
        "        f1.write(l)\n",
        "        print(l)"
      ],
      "execution_count": 36,
      "outputs": [
        {
          "output_type": "stream",
          "text": [
            "Enter file name: /content/Sample File .txt.txt\n",
            "Enter another filename: /content/Sample File 2.txt\n",
            "Pythonic Means Code That Doesn'T Just Get The Syntax \n",
            "\n",
            "Right But That Follow546S The Conventions Of 56 The Python \n",
            "\n",
            "Community And Uses The 5978 Language In T4He Way It Is Inten42Ded To Be Used.This Is The Appended Content From The Another File.This Is The Appended Content From The Another File.This Is The Appended Content From The Another File.This Is The Appended Content From The Another File.This Is The Appended Content From The Another File.This Is The Appended Content From The Another File.This Is The Appended Content From The Another File.\n"
          ],
          "name": "stdout"
        }
      ]
    }
  ]
}